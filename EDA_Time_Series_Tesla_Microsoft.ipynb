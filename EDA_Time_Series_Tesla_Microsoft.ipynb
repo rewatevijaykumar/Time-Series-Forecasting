{
 "cells": [
  {
   "cell_type": "markdown",
   "id": "efbd9441",
   "metadata": {},
   "source": [
    "## Time Series EDA"
   ]
  },
  {
   "cell_type": "code",
   "execution_count": 2,
   "id": "708f1d51",
   "metadata": {},
   "outputs": [
    {
     "name": "stdout",
     "output_type": "stream",
     "text": [
      "Collecting pandas-datareader\n",
      "  Downloading pandas_datareader-0.10.0-py3-none-any.whl (109 kB)\n",
      "Requirement already satisfied: pandas>=0.23 in c:\\users\\starlord\\anaconda3\\lib\\site-packages (from pandas-datareader) (1.3.4)\n",
      "Requirement already satisfied: lxml in c:\\users\\starlord\\anaconda3\\lib\\site-packages (from pandas-datareader) (4.6.3)\n",
      "Requirement already satisfied: requests>=2.19.0 in c:\\users\\starlord\\anaconda3\\lib\\site-packages (from pandas-datareader) (2.26.0)\n",
      "Requirement already satisfied: pytz>=2017.3 in c:\\users\\starlord\\anaconda3\\lib\\site-packages (from pandas>=0.23->pandas-datareader) (2021.3)\n",
      "Requirement already satisfied: numpy>=1.17.3 in c:\\users\\starlord\\anaconda3\\lib\\site-packages (from pandas>=0.23->pandas-datareader) (1.20.3)\n",
      "Requirement already satisfied: python-dateutil>=2.7.3 in c:\\users\\starlord\\anaconda3\\lib\\site-packages (from pandas>=0.23->pandas-datareader) (2.8.2)\n",
      "Requirement already satisfied: six>=1.5 in c:\\users\\starlord\\anaconda3\\lib\\site-packages (from python-dateutil>=2.7.3->pandas>=0.23->pandas-datareader) (1.16.0)\n",
      "Requirement already satisfied: idna<4,>=2.5 in c:\\users\\starlord\\anaconda3\\lib\\site-packages (from requests>=2.19.0->pandas-datareader) (3.2)\n",
      "Requirement already satisfied: urllib3<1.27,>=1.21.1 in c:\\users\\starlord\\anaconda3\\lib\\site-packages (from requests>=2.19.0->pandas-datareader) (1.26.7)\n",
      "Requirement already satisfied: certifi>=2017.4.17 in c:\\users\\starlord\\anaconda3\\lib\\site-packages (from requests>=2.19.0->pandas-datareader) (2021.10.8)\n",
      "Requirement already satisfied: charset-normalizer~=2.0.0 in c:\\users\\starlord\\anaconda3\\lib\\site-packages (from requests>=2.19.0->pandas-datareader) (2.0.4)\n",
      "Installing collected packages: pandas-datareader\n",
      "Successfully installed pandas-datareader-0.10.0\n"
     ]
    }
   ],
   "source": [
    "# Install Pandas Data Reader\n",
    "!pip install pandas-datareader"
   ]
  },
  {
   "cell_type": "code",
   "execution_count": 5,
   "id": "29ea8205",
   "metadata": {},
   "outputs": [],
   "source": [
    "#import libraries\n",
    "import pandas_datareader as pdr\n",
    "import pandas as pd\n",
    "from datetime import datetime"
   ]
  },
  {
   "cell_type": "code",
   "execution_count": 8,
   "id": "30fbb3df",
   "metadata": {},
   "outputs": [],
   "source": [
    "# GET STOCK MARKET DATA - TESLA\n",
    "df_tesla = pdr.get_data_yahoo('TSLA')"
   ]
  },
  {
   "cell_type": "code",
   "execution_count": 10,
   "id": "f6f3d642",
   "metadata": {},
   "outputs": [
    {
     "data": {
      "text/html": [
       "<div>\n",
       "<style scoped>\n",
       "    .dataframe tbody tr th:only-of-type {\n",
       "        vertical-align: middle;\n",
       "    }\n",
       "\n",
       "    .dataframe tbody tr th {\n",
       "        vertical-align: top;\n",
       "    }\n",
       "\n",
       "    .dataframe thead th {\n",
       "        text-align: right;\n",
       "    }\n",
       "</style>\n",
       "<table border=\"1\" class=\"dataframe\">\n",
       "  <thead>\n",
       "    <tr style=\"text-align: right;\">\n",
       "      <th></th>\n",
       "      <th>High</th>\n",
       "      <th>Low</th>\n",
       "      <th>Open</th>\n",
       "      <th>Close</th>\n",
       "      <th>Volume</th>\n",
       "      <th>Adj Close</th>\n",
       "    </tr>\n",
       "    <tr>\n",
       "      <th>Date</th>\n",
       "      <th></th>\n",
       "      <th></th>\n",
       "      <th></th>\n",
       "      <th></th>\n",
       "      <th></th>\n",
       "      <th></th>\n",
       "    </tr>\n",
       "  </thead>\n",
       "  <tbody>\n",
       "    <tr>\n",
       "      <th>2017-08-28</th>\n",
       "      <td>23.156666</td>\n",
       "      <td>22.648001</td>\n",
       "      <td>23.152000</td>\n",
       "      <td>23.044001</td>\n",
       "      <td>56459340.0</td>\n",
       "      <td>23.044001</td>\n",
       "    </tr>\n",
       "    <tr>\n",
       "      <th>2017-08-29</th>\n",
       "      <td>23.270000</td>\n",
       "      <td>22.583332</td>\n",
       "      <td>22.632000</td>\n",
       "      <td>23.157333</td>\n",
       "      <td>61105125.0</td>\n",
       "      <td>23.157333</td>\n",
       "    </tr>\n",
       "    <tr>\n",
       "      <th>2017-08-30</th>\n",
       "      <td>23.564667</td>\n",
       "      <td>23.133333</td>\n",
       "      <td>23.311333</td>\n",
       "      <td>23.545334</td>\n",
       "      <td>51194145.0</td>\n",
       "      <td>23.545334</td>\n",
       "    </tr>\n",
       "    <tr>\n",
       "      <th>2017-08-31</th>\n",
       "      <td>23.896000</td>\n",
       "      <td>23.521334</td>\n",
       "      <td>23.570000</td>\n",
       "      <td>23.726665</td>\n",
       "      <td>61091925.0</td>\n",
       "      <td>23.726665</td>\n",
       "    </tr>\n",
       "    <tr>\n",
       "      <th>2017-09-01</th>\n",
       "      <td>23.839333</td>\n",
       "      <td>23.579346</td>\n",
       "      <td>23.741333</td>\n",
       "      <td>23.693333</td>\n",
       "      <td>45743190.0</td>\n",
       "      <td>23.693333</td>\n",
       "    </tr>\n",
       "  </tbody>\n",
       "</table>\n",
       "</div>"
      ],
      "text/plain": [
       "                 High        Low       Open      Close      Volume  Adj Close\n",
       "Date                                                                         \n",
       "2017-08-28  23.156666  22.648001  23.152000  23.044001  56459340.0  23.044001\n",
       "2017-08-29  23.270000  22.583332  22.632000  23.157333  61105125.0  23.157333\n",
       "2017-08-30  23.564667  23.133333  23.311333  23.545334  51194145.0  23.545334\n",
       "2017-08-31  23.896000  23.521334  23.570000  23.726665  61091925.0  23.726665\n",
       "2017-09-01  23.839333  23.579346  23.741333  23.693333  45743190.0  23.693333"
      ]
     },
     "execution_count": 10,
     "metadata": {},
     "output_type": "execute_result"
    }
   ],
   "source": [
    "df_tesla.head()"
   ]
  },
  {
   "cell_type": "code",
   "execution_count": 11,
   "id": "b639376e",
   "metadata": {},
   "outputs": [
    {
     "data": {
      "text/html": [
       "<div>\n",
       "<style scoped>\n",
       "    .dataframe tbody tr th:only-of-type {\n",
       "        vertical-align: middle;\n",
       "    }\n",
       "\n",
       "    .dataframe tbody tr th {\n",
       "        vertical-align: top;\n",
       "    }\n",
       "\n",
       "    .dataframe thead th {\n",
       "        text-align: right;\n",
       "    }\n",
       "</style>\n",
       "<table border=\"1\" class=\"dataframe\">\n",
       "  <thead>\n",
       "    <tr style=\"text-align: right;\">\n",
       "      <th></th>\n",
       "      <th>High</th>\n",
       "      <th>Low</th>\n",
       "      <th>Open</th>\n",
       "      <th>Close</th>\n",
       "      <th>Volume</th>\n",
       "      <th>Adj Close</th>\n",
       "    </tr>\n",
       "    <tr>\n",
       "      <th>Date</th>\n",
       "      <th></th>\n",
       "      <th></th>\n",
       "      <th></th>\n",
       "      <th></th>\n",
       "      <th></th>\n",
       "      <th></th>\n",
       "    </tr>\n",
       "  </thead>\n",
       "  <tbody>\n",
       "    <tr>\n",
       "      <th>2022-08-22</th>\n",
       "      <td>292.399994</td>\n",
       "      <td>286.296661</td>\n",
       "      <td>291.913330</td>\n",
       "      <td>289.913330</td>\n",
       "      <td>55843347.0</td>\n",
       "      <td>289.913330</td>\n",
       "    </tr>\n",
       "    <tr>\n",
       "      <th>2022-08-23</th>\n",
       "      <td>298.826630</td>\n",
       "      <td>287.923340</td>\n",
       "      <td>291.453339</td>\n",
       "      <td>296.453339</td>\n",
       "      <td>63985044.0</td>\n",
       "      <td>296.453339</td>\n",
       "    </tr>\n",
       "    <tr>\n",
       "      <th>2022-08-24</th>\n",
       "      <td>303.646667</td>\n",
       "      <td>296.500000</td>\n",
       "      <td>297.563324</td>\n",
       "      <td>297.096680</td>\n",
       "      <td>57259716.0</td>\n",
       "      <td>297.096680</td>\n",
       "    </tr>\n",
       "    <tr>\n",
       "      <th>2022-08-25</th>\n",
       "      <td>302.959991</td>\n",
       "      <td>291.600006</td>\n",
       "      <td>302.359985</td>\n",
       "      <td>296.070007</td>\n",
       "      <td>52742375.0</td>\n",
       "      <td>296.070007</td>\n",
       "    </tr>\n",
       "    <tr>\n",
       "      <th>2022-08-26</th>\n",
       "      <td>302.000000</td>\n",
       "      <td>287.470001</td>\n",
       "      <td>297.429993</td>\n",
       "      <td>288.089996</td>\n",
       "      <td>55487769.0</td>\n",
       "      <td>288.089996</td>\n",
       "    </tr>\n",
       "  </tbody>\n",
       "</table>\n",
       "</div>"
      ],
      "text/plain": [
       "                  High         Low        Open       Close      Volume  \\\n",
       "Date                                                                     \n",
       "2022-08-22  292.399994  286.296661  291.913330  289.913330  55843347.0   \n",
       "2022-08-23  298.826630  287.923340  291.453339  296.453339  63985044.0   \n",
       "2022-08-24  303.646667  296.500000  297.563324  297.096680  57259716.0   \n",
       "2022-08-25  302.959991  291.600006  302.359985  296.070007  52742375.0   \n",
       "2022-08-26  302.000000  287.470001  297.429993  288.089996  55487769.0   \n",
       "\n",
       "             Adj Close  \n",
       "Date                    \n",
       "2022-08-22  289.913330  \n",
       "2022-08-23  296.453339  \n",
       "2022-08-24  297.096680  \n",
       "2022-08-25  296.070007  \n",
       "2022-08-26  288.089996  "
      ]
     },
     "execution_count": 11,
     "metadata": {},
     "output_type": "execute_result"
    }
   ],
   "source": [
    "df_tesla.tail()"
   ]
  },
  {
   "cell_type": "code",
   "execution_count": 40,
   "id": "b3a43421",
   "metadata": {},
   "outputs": [],
   "source": [
    "import seaborn as sns\n",
    "import matplotlib.pyplot as plt\n",
    "%matplotlib inline"
   ]
  },
  {
   "cell_type": "code",
   "execution_count": 15,
   "id": "61cbe3fb",
   "metadata": {},
   "outputs": [
    {
     "data": {
      "text/plain": [
       "<AxesSubplot:xlabel='Date'>"
      ]
     },
     "execution_count": 15,
     "metadata": {},
     "output_type": "execute_result"
    },
    {
     "data": {
      "image/png": "[encoded data removed]",
      "text/plain": [
       "<Figure size 864x288 with 1 Axes>"
      ]
     },
     "metadata": {
      "needs_background": "light"
     },
     "output_type": "display_data"
    }
   ],
   "source": [
    "df_tesla['High'].plot(figsize=(12,4))"
   ]
  },
  {
   "cell_type": "code",
   "execution_count": 21,
   "id": "df024c43",
   "metadata": {},
   "outputs": [
    {
     "data": {
      "text/plain": [
       "<AxesSubplot:xlabel='Date'>"
      ]
     },
     "execution_count": 21,
     "metadata": {},
     "output_type": "execute_result"
    },
    {
     "data": {
      "image/png": "[encoded data removed]",
      "text/plain": [
       "<Figure size 864x288 with 1 Axes>"
      ]
     },
     "metadata": {
      "needs_background": "light"
     },
     "output_type": "display_data"
    }
   ],
   "source": [
    "# xlimit and ylimit\n",
    "df_tesla['High'].plot(xlim=['2020-01-01','2021-09-01'],ylim=[0,900],figsize=(12,4))"
   ]
  },
  {
   "cell_type": "code",
   "execution_count": 23,
   "id": "89d03932",
   "metadata": {},
   "outputs": [
    {
     "data": {
      "text/plain": [
       "<AxesSubplot:xlabel='Date'>"
      ]
     },
     "execution_count": 23,
     "metadata": {},
     "output_type": "execute_result"
    },
    {
     "data": {
      "image/png": "[encoded data removed]",
      "text/plain": [
       "<Figure size 864x288 with 1 Axes>"
      ]
     },
     "metadata": {
      "needs_background": "light"
     },
     "output_type": "display_data"
    }
   ],
   "source": [
    "# xlimit and ylimit and coloring\n",
    "df_tesla['High'].plot(xlim=['2020-01-01','2021-09-01'],ylim=[0,900],figsize=(12,4),ls='--',c='green')"
   ]
  },
  {
   "cell_type": "code",
   "execution_count": 33,
   "id": "a3e3b136",
   "metadata": {},
   "outputs": [
    {
     "data": {
      "text/plain": [
       "DatetimeIndex(['2017-08-28', '2017-08-29', '2017-08-30', '2017-08-31',\n",
       "               '2017-09-01', '2017-09-05', '2017-09-06', '2017-09-07',\n",
       "               '2017-09-08', '2017-09-11',\n",
       "               ...\n",
       "               '2022-08-15', '2022-08-16', '2022-08-17', '2022-08-18',\n",
       "               '2022-08-19', '2022-08-22', '2022-08-23', '2022-08-24',\n",
       "               '2022-08-25', '2022-08-26'],\n",
       "              dtype='datetime64[ns]', name='Date', length=1259, freq=None)"
      ]
     },
     "execution_count": 33,
     "metadata": {},
     "output_type": "execute_result"
    }
   ],
   "source": [
    "df_tesla.index"
   ]
  },
  {
   "cell_type": "code",
   "execution_count": 32,
   "id": "11cfff5d",
   "metadata": {},
   "outputs": [
    {
     "data": {
      "text/html": [
       "<div>\n",
       "<style scoped>\n",
       "    .dataframe tbody tr th:only-of-type {\n",
       "        vertical-align: middle;\n",
       "    }\n",
       "\n",
       "    .dataframe tbody tr th {\n",
       "        vertical-align: top;\n",
       "    }\n",
       "\n",
       "    .dataframe thead th {\n",
       "        text-align: right;\n",
       "    }\n",
       "</style>\n",
       "<table border=\"1\" class=\"dataframe\">\n",
       "  <thead>\n",
       "    <tr style=\"text-align: right;\">\n",
       "      <th></th>\n",
       "      <th>High</th>\n",
       "      <th>Low</th>\n",
       "      <th>Open</th>\n",
       "      <th>Close</th>\n",
       "      <th>Volume</th>\n",
       "      <th>Adj Close</th>\n",
       "    </tr>\n",
       "    <tr>\n",
       "      <th>Date</th>\n",
       "      <th></th>\n",
       "      <th></th>\n",
       "      <th></th>\n",
       "      <th></th>\n",
       "      <th></th>\n",
       "      <th></th>\n",
       "    </tr>\n",
       "  </thead>\n",
       "  <tbody>\n",
       "    <tr>\n",
       "      <th>2017-08-28</th>\n",
       "      <td>23.156666</td>\n",
       "      <td>22.648001</td>\n",
       "      <td>23.152000</td>\n",
       "      <td>23.044001</td>\n",
       "      <td>56459340.0</td>\n",
       "      <td>23.044001</td>\n",
       "    </tr>\n",
       "    <tr>\n",
       "      <th>2017-08-29</th>\n",
       "      <td>23.270000</td>\n",
       "      <td>22.583332</td>\n",
       "      <td>22.632000</td>\n",
       "      <td>23.157333</td>\n",
       "      <td>61105125.0</td>\n",
       "      <td>23.157333</td>\n",
       "    </tr>\n",
       "    <tr>\n",
       "      <th>2017-08-30</th>\n",
       "      <td>23.564667</td>\n",
       "      <td>23.133333</td>\n",
       "      <td>23.311333</td>\n",
       "      <td>23.545334</td>\n",
       "      <td>51194145.0</td>\n",
       "      <td>23.545334</td>\n",
       "    </tr>\n",
       "    <tr>\n",
       "      <th>2017-08-31</th>\n",
       "      <td>23.896000</td>\n",
       "      <td>23.521334</td>\n",
       "      <td>23.570000</td>\n",
       "      <td>23.726665</td>\n",
       "      <td>61091925.0</td>\n",
       "      <td>23.726665</td>\n",
       "    </tr>\n",
       "  </tbody>\n",
       "</table>\n",
       "</div>"
      ],
      "text/plain": [
       "                 High        Low       Open      Close      Volume  Adj Close\n",
       "Date                                                                         \n",
       "2017-08-28  23.156666  22.648001  23.152000  23.044001  56459340.0  23.044001\n",
       "2017-08-29  23.270000  22.583332  22.632000  23.157333  61105125.0  23.157333\n",
       "2017-08-30  23.564667  23.133333  23.311333  23.545334  51194145.0  23.545334\n",
       "2017-08-31  23.896000  23.521334  23.570000  23.726665  61091925.0  23.726665"
      ]
     },
     "execution_count": 32,
     "metadata": {},
     "output_type": "execute_result"
    }
   ],
   "source": [
    "df_tesla.iloc[:4,:]"
   ]
  },
  {
   "cell_type": "code",
   "execution_count": 36,
   "id": "4830ee41",
   "metadata": {},
   "outputs": [],
   "source": [
    "index = df_tesla.loc['2020-01-01':'2021-09-01'].index"
   ]
  },
  {
   "cell_type": "code",
   "execution_count": 37,
   "id": "b77e2fd9",
   "metadata": {},
   "outputs": [],
   "source": [
    "share_open = df_tesla.loc['2020-01-01':'2021-09-01']['Open']"
   ]
  },
  {
   "cell_type": "code",
   "execution_count": 38,
   "id": "1e38bf0f",
   "metadata": {},
   "outputs": [
    {
     "data": {
      "text/plain": [
       "DatetimeIndex(['2020-01-02', '2020-01-03', '2020-01-06', '2020-01-07',\n",
       "               '2020-01-08', '2020-01-09', '2020-01-10', '2020-01-13',\n",
       "               '2020-01-14', '2020-01-15',\n",
       "               ...\n",
       "               '2021-08-19', '2021-08-20', '2021-08-23', '2021-08-24',\n",
       "               '2021-08-25', '2021-08-26', '2021-08-27', '2021-08-30',\n",
       "               '2021-08-31', '2021-09-01'],\n",
       "              dtype='datetime64[ns]', name='Date', length=421, freq=None)"
      ]
     },
     "execution_count": 38,
     "metadata": {},
     "output_type": "execute_result"
    }
   ],
   "source": [
    "index"
   ]
  },
  {
   "cell_type": "code",
   "execution_count": 39,
   "id": "9c562e23",
   "metadata": {},
   "outputs": [
    {
     "data": {
      "text/plain": [
       "Date\n",
       "2020-01-02     28.299999\n",
       "2020-01-03     29.366667\n",
       "2020-01-06     29.364666\n",
       "2020-01-07     30.760000\n",
       "2020-01-08     31.580000\n",
       "                 ...    \n",
       "2021-08-26    236.103333\n",
       "2021-08-27    235.000000\n",
       "2021-08-30    238.238327\n",
       "2021-08-31    244.333328\n",
       "2021-09-01    244.693329\n",
       "Name: Open, Length: 421, dtype: float64"
      ]
     },
     "execution_count": 39,
     "metadata": {},
     "output_type": "execute_result"
    }
   ],
   "source": [
    "share_open"
   ]
  },
  {
   "cell_type": "code",
   "execution_count": 44,
   "id": "69004e24",
   "metadata": {},
   "outputs": [
    {
     "data": {
      "text/plain": [
       "[<matplotlib.lines.Line2D at 0x1905eaa5040>]"
      ]
     },
     "execution_count": 44,
     "metadata": {},
     "output_type": "execute_result"
    },
    {
     "data": {
      "image/png": "[encoded data removed]",
      "text/plain": [
       "<Figure size 432x288 with 1 Axes>"
      ]
     },
     "metadata": {
      "needs_background": "light"
     },
     "output_type": "display_data"
    }
   ],
   "source": [
    "figure, axis = plt.subplots()\n",
    "plt.tight_layout()\n",
    "# prevent overlapping\n",
    "figure.autofmt_xdate()\n",
    "axis.plot(index, share_open)"
   ]
  },
  {
   "cell_type": "code",
   "execution_count": 46,
   "id": "fa156310",
   "metadata": {},
   "outputs": [],
   "source": [
    "# Datetime Index"
   ]
  },
  {
   "cell_type": "code",
   "execution_count": 47,
   "id": "0eef14c0",
   "metadata": {},
   "outputs": [
    {
     "name": "stdout",
     "output_type": "stream",
     "text": [
      "<class 'pandas.core.frame.DataFrame'>\n",
      "DatetimeIndex: 1259 entries, 2017-08-28 to 2022-08-26\n",
      "Data columns (total 6 columns):\n",
      " #   Column     Non-Null Count  Dtype  \n",
      "---  ------     --------------  -----  \n",
      " 0   High       1259 non-null   float64\n",
      " 1   Low        1259 non-null   float64\n",
      " 2   Open       1259 non-null   float64\n",
      " 3   Close      1259 non-null   float64\n",
      " 4   Volume     1259 non-null   float64\n",
      " 5   Adj Close  1259 non-null   float64\n",
      "dtypes: float64(6)\n",
      "memory usage: 101.1 KB\n"
     ]
    }
   ],
   "source": [
    "df_tesla.info()"
   ]
  },
  {
   "cell_type": "code",
   "execution_count": 49,
   "id": "6f8f172c",
   "metadata": {},
   "outputs": [],
   "source": [
    "df_tesla = df_tesla.reset_index()"
   ]
  },
  {
   "cell_type": "code",
   "execution_count": 50,
   "id": "df2d4e6a",
   "metadata": {},
   "outputs": [
    {
     "name": "stdout",
     "output_type": "stream",
     "text": [
      "<class 'pandas.core.frame.DataFrame'>\n",
      "RangeIndex: 1259 entries, 0 to 1258\n",
      "Data columns (total 7 columns):\n",
      " #   Column     Non-Null Count  Dtype         \n",
      "---  ------     --------------  -----         \n",
      " 0   Date       1259 non-null   datetime64[ns]\n",
      " 1   High       1259 non-null   float64       \n",
      " 2   Low        1259 non-null   float64       \n",
      " 3   Open       1259 non-null   float64       \n",
      " 4   Close      1259 non-null   float64       \n",
      " 5   Volume     1259 non-null   float64       \n",
      " 6   Adj Close  1259 non-null   float64       \n",
      "dtypes: datetime64[ns](1), float64(6)\n",
      "memory usage: 69.0 KB\n"
     ]
    }
   ],
   "source": [
    "df_tesla.info()"
   ]
  },
  {
   "cell_type": "code",
   "execution_count": 52,
   "id": "b7e65ee9",
   "metadata": {},
   "outputs": [
    {
     "data": {
      "text/plain": [
       "0      2017-08-28\n",
       "1      2017-08-29\n",
       "2      2017-08-30\n",
       "3      2017-08-31\n",
       "4      2017-09-01\n",
       "          ...    \n",
       "1254   2022-08-22\n",
       "1255   2022-08-23\n",
       "1256   2022-08-24\n",
       "1257   2022-08-25\n",
       "1258   2022-08-26\n",
       "Name: Date, Length: 1259, dtype: datetime64[ns]"
      ]
     },
     "execution_count": 52,
     "metadata": {},
     "output_type": "execute_result"
    }
   ],
   "source": [
    "#convert object to date time\n",
    "pd.to_datetime(df_tesla['Date'])"
   ]
  },
  {
   "cell_type": "code",
   "execution_count": 54,
   "id": "0a21b1b3",
   "metadata": {},
   "outputs": [],
   "source": [
    "# set date time index\n",
    "df_tesla = df_tesla.set_index('Date',drop=True)"
   ]
  },
  {
   "cell_type": "code",
   "execution_count": 55,
   "id": "73fec432",
   "metadata": {},
   "outputs": [
    {
     "data": {
      "text/html": [
       "<div>\n",
       "<style scoped>\n",
       "    .dataframe tbody tr th:only-of-type {\n",
       "        vertical-align: middle;\n",
       "    }\n",
       "\n",
       "    .dataframe tbody tr th {\n",
       "        vertical-align: top;\n",
       "    }\n",
       "\n",
       "    .dataframe thead th {\n",
       "        text-align: right;\n",
       "    }\n",
       "</style>\n",
       "<table border=\"1\" class=\"dataframe\">\n",
       "  <thead>\n",
       "    <tr style=\"text-align: right;\">\n",
       "      <th></th>\n",
       "      <th>High</th>\n",
       "      <th>Low</th>\n",
       "      <th>Open</th>\n",
       "      <th>Close</th>\n",
       "      <th>Volume</th>\n",
       "      <th>Adj Close</th>\n",
       "    </tr>\n",
       "    <tr>\n",
       "      <th>Date</th>\n",
       "      <th></th>\n",
       "      <th></th>\n",
       "      <th></th>\n",
       "      <th></th>\n",
       "      <th></th>\n",
       "      <th></th>\n",
       "    </tr>\n",
       "  </thead>\n",
       "  <tbody>\n",
       "    <tr>\n",
       "      <th>2017-08-28</th>\n",
       "      <td>23.156666</td>\n",
       "      <td>22.648001</td>\n",
       "      <td>23.152000</td>\n",
       "      <td>23.044001</td>\n",
       "      <td>56459340.0</td>\n",
       "      <td>23.044001</td>\n",
       "    </tr>\n",
       "    <tr>\n",
       "      <th>2017-08-29</th>\n",
       "      <td>23.270000</td>\n",
       "      <td>22.583332</td>\n",
       "      <td>22.632000</td>\n",
       "      <td>23.157333</td>\n",
       "      <td>61105125.0</td>\n",
       "      <td>23.157333</td>\n",
       "    </tr>\n",
       "    <tr>\n",
       "      <th>2017-08-30</th>\n",
       "      <td>23.564667</td>\n",
       "      <td>23.133333</td>\n",
       "      <td>23.311333</td>\n",
       "      <td>23.545334</td>\n",
       "      <td>51194145.0</td>\n",
       "      <td>23.545334</td>\n",
       "    </tr>\n",
       "    <tr>\n",
       "      <th>2017-08-31</th>\n",
       "      <td>23.896000</td>\n",
       "      <td>23.521334</td>\n",
       "      <td>23.570000</td>\n",
       "      <td>23.726665</td>\n",
       "      <td>61091925.0</td>\n",
       "      <td>23.726665</td>\n",
       "    </tr>\n",
       "    <tr>\n",
       "      <th>2017-09-01</th>\n",
       "      <td>23.839333</td>\n",
       "      <td>23.579346</td>\n",
       "      <td>23.741333</td>\n",
       "      <td>23.693333</td>\n",
       "      <td>45743190.0</td>\n",
       "      <td>23.693333</td>\n",
       "    </tr>\n",
       "  </tbody>\n",
       "</table>\n",
       "</div>"
      ],
      "text/plain": [
       "                 High        Low       Open      Close      Volume  Adj Close\n",
       "Date                                                                         \n",
       "2017-08-28  23.156666  22.648001  23.152000  23.044001  56459340.0  23.044001\n",
       "2017-08-29  23.270000  22.583332  22.632000  23.157333  61105125.0  23.157333\n",
       "2017-08-30  23.564667  23.133333  23.311333  23.545334  51194145.0  23.545334\n",
       "2017-08-31  23.896000  23.521334  23.570000  23.726665  61091925.0  23.726665\n",
       "2017-09-01  23.839333  23.579346  23.741333  23.693333  45743190.0  23.693333"
      ]
     },
     "execution_count": 55,
     "metadata": {},
     "output_type": "execute_result"
    }
   ],
   "source": [
    "df_tesla.head()"
   ]
  },
  {
   "cell_type": "code",
   "execution_count": 56,
   "id": "2b22bf36",
   "metadata": {},
   "outputs": [],
   "source": [
    "# datetime\n",
    "from datetime import datetime"
   ]
  },
  {
   "cell_type": "code",
   "execution_count": 57,
   "id": "c37e1cce",
   "metadata": {},
   "outputs": [
    {
     "data": {
      "text/plain": [
       "datetime.datetime(2022, 8, 21, 0, 0)"
      ]
     },
     "execution_count": 57,
     "metadata": {},
     "output_type": "execute_result"
    }
   ],
   "source": [
    "datetime(2022,8,21)"
   ]
  },
  {
   "cell_type": "code",
   "execution_count": 61,
   "id": "eff49f19",
   "metadata": {},
   "outputs": [
    {
     "data": {
      "text/plain": [
       "datetime.datetime(2022, 8, 27, 2, 30, 53, 375501)"
      ]
     },
     "execution_count": 61,
     "metadata": {},
     "output_type": "execute_result"
    }
   ],
   "source": [
    "datetime.now()"
   ]
  },
  {
   "cell_type": "code",
   "execution_count": 62,
   "id": "0605236c",
   "metadata": {},
   "outputs": [],
   "source": [
    "def add_num(num1, num2):\n",
    "    return num1 + num2"
   ]
  },
  {
   "cell_type": "code",
   "execution_count": 70,
   "id": "68e5bb35",
   "metadata": {},
   "outputs": [
    {
     "name": "stdout",
     "output_type": "stream",
     "text": [
      "0:00:07.191293\n"
     ]
    }
   ],
   "source": [
    "starttime = datetime.now()\n",
    "num1=20\n",
    "num2=30\n",
    "for i in range(0,10000000):\n",
    "    add_num(num1,num2)\n",
    "endtime = datetime.now()\n",
    "print(endtime-starttime)"
   ]
  },
  {
   "cell_type": "code",
   "execution_count": 71,
   "id": "ca15b02b",
   "metadata": {},
   "outputs": [],
   "source": [
    "date = datetime(2022,10,21)"
   ]
  },
  {
   "cell_type": "code",
   "execution_count": 73,
   "id": "1ee29da2",
   "metadata": {},
   "outputs": [
    {
     "data": {
      "text/plain": [
       "21"
      ]
     },
     "execution_count": 73,
     "metadata": {},
     "output_type": "execute_result"
    }
   ],
   "source": [
    "date.day"
   ]
  },
  {
   "cell_type": "code",
   "execution_count": 74,
   "id": "2fde91e0",
   "metadata": {},
   "outputs": [
    {
     "data": {
      "text/plain": [
       "10"
      ]
     },
     "execution_count": 74,
     "metadata": {},
     "output_type": "execute_result"
    }
   ],
   "source": [
    "date.month"
   ]
  },
  {
   "cell_type": "code",
   "execution_count": 77,
   "id": "c857cb9c",
   "metadata": {},
   "outputs": [
    {
     "data": {
      "text/plain": [
       "2022"
      ]
     },
     "execution_count": 77,
     "metadata": {},
     "output_type": "execute_result"
    }
   ],
   "source": [
    "date.year"
   ]
  },
  {
   "cell_type": "code",
   "execution_count": 76,
   "id": "e62ec211",
   "metadata": {},
   "outputs": [
    {
     "data": {
      "text/plain": [
       "4"
      ]
     },
     "execution_count": 76,
     "metadata": {},
     "output_type": "execute_result"
    }
   ],
   "source": [
    "date.weekday()"
   ]
  },
  {
   "cell_type": "markdown",
   "id": "97793dd0",
   "metadata": {},
   "source": [
    "## Time resampling\n"
   ]
  },
  {
   "cell_type": "code",
   "execution_count": 78,
   "id": "5a30c0a9",
   "metadata": {},
   "outputs": [
    {
     "data": {
      "text/html": [
       "<div>\n",
       "<style scoped>\n",
       "    .dataframe tbody tr th:only-of-type {\n",
       "        vertical-align: middle;\n",
       "    }\n",
       "\n",
       "    .dataframe tbody tr th {\n",
       "        vertical-align: top;\n",
       "    }\n",
       "\n",
       "    .dataframe thead th {\n",
       "        text-align: right;\n",
       "    }\n",
       "</style>\n",
       "<table border=\"1\" class=\"dataframe\">\n",
       "  <thead>\n",
       "    <tr style=\"text-align: right;\">\n",
       "      <th></th>\n",
       "      <th>High</th>\n",
       "      <th>Low</th>\n",
       "      <th>Open</th>\n",
       "      <th>Close</th>\n",
       "      <th>Volume</th>\n",
       "      <th>Adj Close</th>\n",
       "    </tr>\n",
       "    <tr>\n",
       "      <th>Date</th>\n",
       "      <th></th>\n",
       "      <th></th>\n",
       "      <th></th>\n",
       "      <th></th>\n",
       "      <th></th>\n",
       "      <th></th>\n",
       "    </tr>\n",
       "  </thead>\n",
       "  <tbody>\n",
       "    <tr>\n",
       "      <th>2017-08-28</th>\n",
       "      <td>23.156666</td>\n",
       "      <td>22.648001</td>\n",
       "      <td>23.152000</td>\n",
       "      <td>23.044001</td>\n",
       "      <td>56459340.0</td>\n",
       "      <td>23.044001</td>\n",
       "    </tr>\n",
       "    <tr>\n",
       "      <th>2017-08-29</th>\n",
       "      <td>23.270000</td>\n",
       "      <td>22.583332</td>\n",
       "      <td>22.632000</td>\n",
       "      <td>23.157333</td>\n",
       "      <td>61105125.0</td>\n",
       "      <td>23.157333</td>\n",
       "    </tr>\n",
       "    <tr>\n",
       "      <th>2017-08-30</th>\n",
       "      <td>23.564667</td>\n",
       "      <td>23.133333</td>\n",
       "      <td>23.311333</td>\n",
       "      <td>23.545334</td>\n",
       "      <td>51194145.0</td>\n",
       "      <td>23.545334</td>\n",
       "    </tr>\n",
       "    <tr>\n",
       "      <th>2017-08-31</th>\n",
       "      <td>23.896000</td>\n",
       "      <td>23.521334</td>\n",
       "      <td>23.570000</td>\n",
       "      <td>23.726665</td>\n",
       "      <td>61091925.0</td>\n",
       "      <td>23.726665</td>\n",
       "    </tr>\n",
       "    <tr>\n",
       "      <th>2017-09-01</th>\n",
       "      <td>23.839333</td>\n",
       "      <td>23.579346</td>\n",
       "      <td>23.741333</td>\n",
       "      <td>23.693333</td>\n",
       "      <td>45743190.0</td>\n",
       "      <td>23.693333</td>\n",
       "    </tr>\n",
       "  </tbody>\n",
       "</table>\n",
       "</div>"
      ],
      "text/plain": [
       "                 High        Low       Open      Close      Volume  Adj Close\n",
       "Date                                                                         \n",
       "2017-08-28  23.156666  22.648001  23.152000  23.044001  56459340.0  23.044001\n",
       "2017-08-29  23.270000  22.583332  22.632000  23.157333  61105125.0  23.157333\n",
       "2017-08-30  23.564667  23.133333  23.311333  23.545334  51194145.0  23.545334\n",
       "2017-08-31  23.896000  23.521334  23.570000  23.726665  61091925.0  23.726665\n",
       "2017-09-01  23.839333  23.579346  23.741333  23.693333  45743190.0  23.693333"
      ]
     },
     "execution_count": 78,
     "metadata": {},
     "output_type": "execute_result"
    }
   ],
   "source": [
    "df_tesla.head()"
   ]
  },
  {
   "cell_type": "code",
   "execution_count": 80,
   "id": "b6f60a02",
   "metadata": {},
   "outputs": [
    {
     "data": {
      "text/html": [
       "<div>\n",
       "<style scoped>\n",
       "    .dataframe tbody tr th:only-of-type {\n",
       "        vertical-align: middle;\n",
       "    }\n",
       "\n",
       "    .dataframe tbody tr th {\n",
       "        vertical-align: top;\n",
       "    }\n",
       "\n",
       "    .dataframe thead th {\n",
       "        text-align: right;\n",
       "    }\n",
       "</style>\n",
       "<table border=\"1\" class=\"dataframe\">\n",
       "  <thead>\n",
       "    <tr style=\"text-align: right;\">\n",
       "      <th></th>\n",
       "      <th>High</th>\n",
       "      <th>Low</th>\n",
       "      <th>Open</th>\n",
       "      <th>Close</th>\n",
       "      <th>Volume</th>\n",
       "      <th>Adj Close</th>\n",
       "    </tr>\n",
       "    <tr>\n",
       "      <th>Date</th>\n",
       "      <th></th>\n",
       "      <th></th>\n",
       "      <th></th>\n",
       "      <th></th>\n",
       "      <th></th>\n",
       "      <th></th>\n",
       "    </tr>\n",
       "  </thead>\n",
       "  <tbody>\n",
       "    <tr>\n",
       "      <th>2017-12-31</th>\n",
       "      <td>20.297333</td>\n",
       "      <td>19.508665</td>\n",
       "      <td>19.966665</td>\n",
       "      <td>19.950666</td>\n",
       "      <td>45743190.0</td>\n",
       "      <td>19.950666</td>\n",
       "    </tr>\n",
       "    <tr>\n",
       "      <th>2018-12-31</th>\n",
       "      <td>17.355453</td>\n",
       "      <td>16.306005</td>\n",
       "      <td>16.851999</td>\n",
       "      <td>16.704000</td>\n",
       "      <td>46210860.0</td>\n",
       "      <td>16.704000</td>\n",
       "    </tr>\n",
       "    <tr>\n",
       "      <th>2019-12-31</th>\n",
       "      <td>12.445333</td>\n",
       "      <td>11.799460</td>\n",
       "      <td>12.073333</td>\n",
       "      <td>11.931333</td>\n",
       "      <td>36984435.0</td>\n",
       "      <td>11.931333</td>\n",
       "    </tr>\n",
       "    <tr>\n",
       "      <th>2020-12-31</th>\n",
       "      <td>26.990665</td>\n",
       "      <td>23.367332</td>\n",
       "      <td>24.979767</td>\n",
       "      <td>24.081333</td>\n",
       "      <td>52073166.0</td>\n",
       "      <td>24.081333</td>\n",
       "    </tr>\n",
       "    <tr>\n",
       "      <th>2021-12-31</th>\n",
       "      <td>188.736664</td>\n",
       "      <td>179.830002</td>\n",
       "      <td>184.183334</td>\n",
       "      <td>187.666672</td>\n",
       "      <td>29401674.0</td>\n",
       "      <td>187.666672</td>\n",
       "    </tr>\n",
       "    <tr>\n",
       "      <th>2022-12-31</th>\n",
       "      <td>217.973328</td>\n",
       "      <td>206.856659</td>\n",
       "      <td>207.949997</td>\n",
       "      <td>209.386673</td>\n",
       "      <td>47500536.0</td>\n",
       "      <td>209.386673</td>\n",
       "    </tr>\n",
       "  </tbody>\n",
       "</table>\n",
       "</div>"
      ],
      "text/plain": [
       "                  High         Low        Open       Close      Volume  \\\n",
       "Date                                                                     \n",
       "2017-12-31   20.297333   19.508665   19.966665   19.950666  45743190.0   \n",
       "2018-12-31   17.355453   16.306005   16.851999   16.704000  46210860.0   \n",
       "2019-12-31   12.445333   11.799460   12.073333   11.931333  36984435.0   \n",
       "2020-12-31   26.990665   23.367332   24.979767   24.081333  52073166.0   \n",
       "2021-12-31  188.736664  179.830002  184.183334  187.666672  29401674.0   \n",
       "2022-12-31  217.973328  206.856659  207.949997  209.386673  47500536.0   \n",
       "\n",
       "             Adj Close  \n",
       "Date                    \n",
       "2017-12-31   19.950666  \n",
       "2018-12-31   16.704000  \n",
       "2019-12-31   11.931333  \n",
       "2020-12-31   24.081333  \n",
       "2021-12-31  187.666672  \n",
       "2022-12-31  209.386673  "
      ]
     },
     "execution_count": 80,
     "metadata": {},
     "output_type": "execute_result"
    }
   ],
   "source": [
    "# year end frequency\n",
    "df_tesla.resample(rule='A').min()"
   ]
  },
  {
   "cell_type": "code",
   "execution_count": 81,
   "id": "1f9cc970",
   "metadata": {},
   "outputs": [
    {
     "data": {
      "text/html": [
       "<div>\n",
       "<style scoped>\n",
       "    .dataframe tbody tr th:only-of-type {\n",
       "        vertical-align: middle;\n",
       "    }\n",
       "\n",
       "    .dataframe tbody tr th {\n",
       "        vertical-align: top;\n",
       "    }\n",
       "\n",
       "    .dataframe thead th {\n",
       "        text-align: right;\n",
       "    }\n",
       "</style>\n",
       "<table border=\"1\" class=\"dataframe\">\n",
       "  <thead>\n",
       "    <tr style=\"text-align: right;\">\n",
       "      <th></th>\n",
       "      <th>High</th>\n",
       "      <th>Low</th>\n",
       "      <th>Open</th>\n",
       "      <th>Close</th>\n",
       "      <th>Volume</th>\n",
       "      <th>Adj Close</th>\n",
       "    </tr>\n",
       "    <tr>\n",
       "      <th>Date</th>\n",
       "      <th></th>\n",
       "      <th></th>\n",
       "      <th></th>\n",
       "      <th></th>\n",
       "      <th></th>\n",
       "      <th></th>\n",
       "    </tr>\n",
       "  </thead>\n",
       "  <tbody>\n",
       "    <tr>\n",
       "      <th>2017-12-31</th>\n",
       "      <td>25.974001</td>\n",
       "      <td>25.178665</td>\n",
       "      <td>25.350000</td>\n",
       "      <td>25.666666</td>\n",
       "      <td>296871240.0</td>\n",
       "      <td>25.666666</td>\n",
       "    </tr>\n",
       "    <tr>\n",
       "      <th>2018-12-31</th>\n",
       "      <td>25.830666</td>\n",
       "      <td>24.474667</td>\n",
       "      <td>25.000000</td>\n",
       "      <td>25.304667</td>\n",
       "      <td>504745410.0</td>\n",
       "      <td>25.304667</td>\n",
       "    </tr>\n",
       "    <tr>\n",
       "      <th>2019-12-31</th>\n",
       "      <td>29.020666</td>\n",
       "      <td>28.423332</td>\n",
       "      <td>29.000000</td>\n",
       "      <td>28.729334</td>\n",
       "      <td>450091365.0</td>\n",
       "      <td>28.729334</td>\n",
       "    </tr>\n",
       "    <tr>\n",
       "      <th>2020-12-31</th>\n",
       "      <td>239.573334</td>\n",
       "      <td>230.373337</td>\n",
       "      <td>233.330002</td>\n",
       "      <td>235.223328</td>\n",
       "      <td>914081370.0</td>\n",
       "      <td>235.223328</td>\n",
       "    </tr>\n",
       "    <tr>\n",
       "      <th>2021-12-31</th>\n",
       "      <td>414.496674</td>\n",
       "      <td>405.666656</td>\n",
       "      <td>411.470001</td>\n",
       "      <td>409.970001</td>\n",
       "      <td>268189377.0</td>\n",
       "      <td>409.970001</td>\n",
       "    </tr>\n",
       "    <tr>\n",
       "      <th>2022-12-31</th>\n",
       "      <td>402.666656</td>\n",
       "      <td>378.679993</td>\n",
       "      <td>396.516663</td>\n",
       "      <td>399.926666</td>\n",
       "      <td>152375142.0</td>\n",
       "      <td>399.926666</td>\n",
       "    </tr>\n",
       "  </tbody>\n",
       "</table>\n",
       "</div>"
      ],
      "text/plain": [
       "                  High         Low        Open       Close       Volume  \\\n",
       "Date                                                                      \n",
       "2017-12-31   25.974001   25.178665   25.350000   25.666666  296871240.0   \n",
       "2018-12-31   25.830666   24.474667   25.000000   25.304667  504745410.0   \n",
       "2019-12-31   29.020666   28.423332   29.000000   28.729334  450091365.0   \n",
       "2020-12-31  239.573334  230.373337  233.330002  235.223328  914081370.0   \n",
       "2021-12-31  414.496674  405.666656  411.470001  409.970001  268189377.0   \n",
       "2022-12-31  402.666656  378.679993  396.516663  399.926666  152375142.0   \n",
       "\n",
       "             Adj Close  \n",
       "Date                    \n",
       "2017-12-31   25.666666  \n",
       "2018-12-31   25.304667  \n",
       "2019-12-31   28.729334  \n",
       "2020-12-31  235.223328  \n",
       "2021-12-31  409.970001  \n",
       "2022-12-31  399.926666  "
      ]
     },
     "execution_count": 81,
     "metadata": {},
     "output_type": "execute_result"
    }
   ],
   "source": [
    "df_tesla.resample(rule='A').max()"
   ]
  },
  {
   "cell_type": "code",
   "execution_count": 82,
   "id": "99edbee1",
   "metadata": {},
   "outputs": [
    {
     "data": {
      "text/plain": [
       "<AxesSubplot:xlabel='Date'>"
      ]
     },
     "execution_count": 82,
     "metadata": {},
     "output_type": "execute_result"
    },
    {
     "data": {
      "image/png": "[encoded data removed]",
      "text/plain": [
       "<Figure size 432x288 with 1 Axes>"
      ]
     },
     "metadata": {
      "needs_background": "light"
     },
     "output_type": "display_data"
    }
   ],
   "source": [
    "df_tesla.resample(rule='A').max()['Open'].plot()"
   ]
  },
  {
   "cell_type": "code",
   "execution_count": 84,
   "id": "d607c5eb",
   "metadata": {},
   "outputs": [
    {
     "data": {
      "text/html": [
       "<div>\n",
       "<style scoped>\n",
       "    .dataframe tbody tr th:only-of-type {\n",
       "        vertical-align: middle;\n",
       "    }\n",
       "\n",
       "    .dataframe tbody tr th {\n",
       "        vertical-align: top;\n",
       "    }\n",
       "\n",
       "    .dataframe thead th {\n",
       "        text-align: right;\n",
       "    }\n",
       "</style>\n",
       "<table border=\"1\" class=\"dataframe\">\n",
       "  <thead>\n",
       "    <tr style=\"text-align: right;\">\n",
       "      <th></th>\n",
       "      <th>High</th>\n",
       "      <th>Low</th>\n",
       "      <th>Open</th>\n",
       "      <th>Close</th>\n",
       "      <th>Volume</th>\n",
       "      <th>Adj Close</th>\n",
       "    </tr>\n",
       "    <tr>\n",
       "      <th>Date</th>\n",
       "      <th></th>\n",
       "      <th></th>\n",
       "      <th></th>\n",
       "      <th></th>\n",
       "      <th></th>\n",
       "      <th></th>\n",
       "    </tr>\n",
       "  </thead>\n",
       "  <tbody>\n",
       "    <tr>\n",
       "      <th>2017-07-01</th>\n",
       "      <td>25.974001</td>\n",
       "      <td>25.178665</td>\n",
       "      <td>25.350000</td>\n",
       "      <td>25.666666</td>\n",
       "      <td>122391270.0</td>\n",
       "      <td>25.666666</td>\n",
       "    </tr>\n",
       "    <tr>\n",
       "      <th>2017-10-01</th>\n",
       "      <td>24.200001</td>\n",
       "      <td>23.608665</td>\n",
       "      <td>23.798666</td>\n",
       "      <td>23.976665</td>\n",
       "      <td>296871240.0</td>\n",
       "      <td>23.976665</td>\n",
       "    </tr>\n",
       "    <tr>\n",
       "      <th>2018-01-01</th>\n",
       "      <td>24.033333</td>\n",
       "      <td>23.490334</td>\n",
       "      <td>24.000000</td>\n",
       "      <td>23.827999</td>\n",
       "      <td>315021555.0</td>\n",
       "      <td>23.827999</td>\n",
       "    </tr>\n",
       "    <tr>\n",
       "      <th>2018-04-01</th>\n",
       "      <td>24.915333</td>\n",
       "      <td>23.633333</td>\n",
       "      <td>24.344000</td>\n",
       "      <td>24.722000</td>\n",
       "      <td>335211045.0</td>\n",
       "      <td>24.722000</td>\n",
       "    </tr>\n",
       "    <tr>\n",
       "      <th>2018-07-01</th>\n",
       "      <td>25.830666</td>\n",
       "      <td>24.474667</td>\n",
       "      <td>24.606001</td>\n",
       "      <td>25.304667</td>\n",
       "      <td>504745410.0</td>\n",
       "      <td>25.304667</td>\n",
       "    </tr>\n",
       "    <tr>\n",
       "      <th>2018-10-01</th>\n",
       "      <td>25.299334</td>\n",
       "      <td>24.450001</td>\n",
       "      <td>25.000000</td>\n",
       "      <td>25.119333</td>\n",
       "      <td>411382800.0</td>\n",
       "      <td>25.119333</td>\n",
       "    </tr>\n",
       "    <tr>\n",
       "      <th>2019-01-01</th>\n",
       "      <td>23.466665</td>\n",
       "      <td>22.943333</td>\n",
       "      <td>23.080666</td>\n",
       "      <td>23.153999</td>\n",
       "      <td>362261445.0</td>\n",
       "      <td>23.153999</td>\n",
       "    </tr>\n",
       "    <tr>\n",
       "      <th>2019-04-01</th>\n",
       "      <td>19.744665</td>\n",
       "      <td>19.144667</td>\n",
       "      <td>19.219999</td>\n",
       "      <td>19.454000</td>\n",
       "      <td>398207130.0</td>\n",
       "      <td>19.454000</td>\n",
       "    </tr>\n",
       "    <tr>\n",
       "      <th>2019-07-01</th>\n",
       "      <td>17.738001</td>\n",
       "      <td>17.210672</td>\n",
       "      <td>17.278000</td>\n",
       "      <td>17.658667</td>\n",
       "      <td>336273780.0</td>\n",
       "      <td>17.658667</td>\n",
       "    </tr>\n",
       "    <tr>\n",
       "      <th>2019-10-01</th>\n",
       "      <td>29.020666</td>\n",
       "      <td>28.423332</td>\n",
       "      <td>29.000000</td>\n",
       "      <td>28.729334</td>\n",
       "      <td>450091365.0</td>\n",
       "      <td>28.729334</td>\n",
       "    </tr>\n",
       "    <tr>\n",
       "      <th>2020-01-01</th>\n",
       "      <td>64.599327</td>\n",
       "      <td>60.068001</td>\n",
       "      <td>61.566666</td>\n",
       "      <td>61.161331</td>\n",
       "      <td>914081370.0</td>\n",
       "      <td>61.161331</td>\n",
       "    </tr>\n",
       "    <tr>\n",
       "      <th>2020-04-01</th>\n",
       "      <td>72.512665</td>\n",
       "      <td>66.915337</td>\n",
       "      <td>67.518669</td>\n",
       "      <td>71.987335</td>\n",
       "      <td>487977105.0</td>\n",
       "      <td>71.987335</td>\n",
       "    </tr>\n",
       "    <tr>\n",
       "      <th>2020-07-01</th>\n",
       "      <td>167.496674</td>\n",
       "      <td>156.836670</td>\n",
       "      <td>167.380005</td>\n",
       "      <td>166.106659</td>\n",
       "      <td>584780430.0</td>\n",
       "      <td>166.106659</td>\n",
       "    </tr>\n",
       "    <tr>\n",
       "      <th>2020-10-01</th>\n",
       "      <td>239.573334</td>\n",
       "      <td>230.373337</td>\n",
       "      <td>233.330002</td>\n",
       "      <td>235.223328</td>\n",
       "      <td>666378582.0</td>\n",
       "      <td>235.223328</td>\n",
       "    </tr>\n",
       "    <tr>\n",
       "      <th>2021-01-01</th>\n",
       "      <td>300.133331</td>\n",
       "      <td>290.533325</td>\n",
       "      <td>297.126678</td>\n",
       "      <td>294.363342</td>\n",
       "      <td>268189377.0</td>\n",
       "      <td>294.363342</td>\n",
       "    </tr>\n",
       "    <tr>\n",
       "      <th>2021-04-01</th>\n",
       "      <td>260.263336</td>\n",
       "      <td>244.201767</td>\n",
       "      <td>256.899994</td>\n",
       "      <td>254.106659</td>\n",
       "      <td>147052302.0</td>\n",
       "      <td>254.106659</td>\n",
       "    </tr>\n",
       "    <tr>\n",
       "      <th>2021-07-01</th>\n",
       "      <td>266.333344</td>\n",
       "      <td>258.333344</td>\n",
       "      <td>262.399994</td>\n",
       "      <td>263.786652</td>\n",
       "      <td>100847295.0</td>\n",
       "      <td>263.786652</td>\n",
       "    </tr>\n",
       "    <tr>\n",
       "      <th>2021-10-01</th>\n",
       "      <td>414.496674</td>\n",
       "      <td>405.666656</td>\n",
       "      <td>411.470001</td>\n",
       "      <td>409.970001</td>\n",
       "      <td>188556297.0</td>\n",
       "      <td>409.970001</td>\n",
       "    </tr>\n",
       "    <tr>\n",
       "      <th>2022-01-01</th>\n",
       "      <td>402.666656</td>\n",
       "      <td>378.679993</td>\n",
       "      <td>396.516663</td>\n",
       "      <td>399.926666</td>\n",
       "      <td>152375142.0</td>\n",
       "      <td>399.926666</td>\n",
       "    </tr>\n",
       "    <tr>\n",
       "      <th>2022-04-01</th>\n",
       "      <td>384.290009</td>\n",
       "      <td>362.433319</td>\n",
       "      <td>378.766663</td>\n",
       "      <td>381.816681</td>\n",
       "      <td>144973305.0</td>\n",
       "      <td>381.816681</td>\n",
       "    </tr>\n",
       "    <tr>\n",
       "      <th>2022-07-01</th>\n",
       "      <td>314.666656</td>\n",
       "      <td>305.000000</td>\n",
       "      <td>311.666656</td>\n",
       "      <td>309.320007</td>\n",
       "      <td>142032177.0</td>\n",
       "      <td>309.320007</td>\n",
       "    </tr>\n",
       "  </tbody>\n",
       "</table>\n",
       "</div>"
      ],
      "text/plain": [
       "                  High         Low        Open       Close       Volume  \\\n",
       "Date                                                                      \n",
       "2017-07-01   25.974001   25.178665   25.350000   25.666666  122391270.0   \n",
       "2017-10-01   24.200001   23.608665   23.798666   23.976665  296871240.0   \n",
       "2018-01-01   24.033333   23.490334   24.000000   23.827999  315021555.0   \n",
       "2018-04-01   24.915333   23.633333   24.344000   24.722000  335211045.0   \n",
       "2018-07-01   25.830666   24.474667   24.606001   25.304667  504745410.0   \n",
       "2018-10-01   25.299334   24.450001   25.000000   25.119333  411382800.0   \n",
       "2019-01-01   23.466665   22.943333   23.080666   23.153999  362261445.0   \n",
       "2019-04-01   19.744665   19.144667   19.219999   19.454000  398207130.0   \n",
       "2019-07-01   17.738001   17.210672   17.278000   17.658667  336273780.0   \n",
       "2019-10-01   29.020666   28.423332   29.000000   28.729334  450091365.0   \n",
       "2020-01-01   64.599327   60.068001   61.566666   61.161331  914081370.0   \n",
       "2020-04-01   72.512665   66.915337   67.518669   71.987335  487977105.0   \n",
       "2020-07-01  167.496674  156.836670  167.380005  166.106659  584780430.0   \n",
       "2020-10-01  239.573334  230.373337  233.330002  235.223328  666378582.0   \n",
       "2021-01-01  300.133331  290.533325  297.126678  294.363342  268189377.0   \n",
       "2021-04-01  260.263336  244.201767  256.899994  254.106659  147052302.0   \n",
       "2021-07-01  266.333344  258.333344  262.399994  263.786652  100847295.0   \n",
       "2021-10-01  414.496674  405.666656  411.470001  409.970001  188556297.0   \n",
       "2022-01-01  402.666656  378.679993  396.516663  399.926666  152375142.0   \n",
       "2022-04-01  384.290009  362.433319  378.766663  381.816681  144973305.0   \n",
       "2022-07-01  314.666656  305.000000  311.666656  309.320007  142032177.0   \n",
       "\n",
       "             Adj Close  \n",
       "Date                    \n",
       "2017-07-01   25.666666  \n",
       "2017-10-01   23.976665  \n",
       "2018-01-01   23.827999  \n",
       "2018-04-01   24.722000  \n",
       "2018-07-01   25.304667  \n",
       "2018-10-01   25.119333  \n",
       "2019-01-01   23.153999  \n",
       "2019-04-01   19.454000  \n",
       "2019-07-01   17.658667  \n",
       "2019-10-01   28.729334  \n",
       "2020-01-01   61.161331  \n",
       "2020-04-01   71.987335  \n",
       "2020-07-01  166.106659  \n",
       "2020-10-01  235.223328  \n",
       "2021-01-01  294.363342  \n",
       "2021-04-01  254.106659  \n",
       "2021-07-01  263.786652  \n",
       "2021-10-01  409.970001  \n",
       "2022-01-01  399.926666  \n",
       "2022-04-01  381.816681  \n",
       "2022-07-01  309.320007  "
      ]
     },
     "execution_count": 84,
     "metadata": {},
     "output_type": "execute_result"
    }
   ],
   "source": [
    "# quaterly frequency\n",
    "df_tesla.resample(rule='QS').max()"
   ]
  },
  {
   "cell_type": "code",
   "execution_count": 85,
   "id": "4a332a7e",
   "metadata": {},
   "outputs": [
    {
     "data": {
      "text/plain": [
       "<AxesSubplot:xlabel='Date'>"
      ]
     },
     "execution_count": 85,
     "metadata": {},
     "output_type": "execute_result"
    },
    {
     "data": {
      "image/png": "[encoded data removed]",
      "text/plain": [
       "<Figure size 432x288 with 1 Axes>"
      ]
     },
     "metadata": {
      "needs_background": "light"
     },
     "output_type": "display_data"
    }
   ],
   "source": [
    "df_tesla.resample(rule='QS').max()['High'].plot()"
   ]
  },
  {
   "cell_type": "code",
   "execution_count": 87,
   "id": "0519d6b4",
   "metadata": {},
   "outputs": [
    {
     "data": {
      "text/html": [
       "<div>\n",
       "<style scoped>\n",
       "    .dataframe tbody tr th:only-of-type {\n",
       "        vertical-align: middle;\n",
       "    }\n",
       "\n",
       "    .dataframe tbody tr th {\n",
       "        vertical-align: top;\n",
       "    }\n",
       "\n",
       "    .dataframe thead th {\n",
       "        text-align: right;\n",
       "    }\n",
       "</style>\n",
       "<table border=\"1\" class=\"dataframe\">\n",
       "  <thead>\n",
       "    <tr style=\"text-align: right;\">\n",
       "      <th></th>\n",
       "      <th>High</th>\n",
       "      <th>Low</th>\n",
       "      <th>Open</th>\n",
       "      <th>Close</th>\n",
       "      <th>Volume</th>\n",
       "      <th>Adj Close</th>\n",
       "    </tr>\n",
       "    <tr>\n",
       "      <th>Date</th>\n",
       "      <th></th>\n",
       "      <th></th>\n",
       "      <th></th>\n",
       "      <th></th>\n",
       "      <th></th>\n",
       "      <th></th>\n",
       "    </tr>\n",
       "  </thead>\n",
       "  <tbody>\n",
       "    <tr>\n",
       "      <th>2017-12-29</th>\n",
       "      <td>25.974001</td>\n",
       "      <td>25.178665</td>\n",
       "      <td>25.350000</td>\n",
       "      <td>25.666666</td>\n",
       "      <td>296871240.0</td>\n",
       "      <td>25.666666</td>\n",
       "    </tr>\n",
       "    <tr>\n",
       "      <th>2018-12-31</th>\n",
       "      <td>25.830666</td>\n",
       "      <td>24.474667</td>\n",
       "      <td>25.000000</td>\n",
       "      <td>25.304667</td>\n",
       "      <td>504745410.0</td>\n",
       "      <td>25.304667</td>\n",
       "    </tr>\n",
       "    <tr>\n",
       "      <th>2019-12-31</th>\n",
       "      <td>29.020666</td>\n",
       "      <td>28.423332</td>\n",
       "      <td>29.000000</td>\n",
       "      <td>28.729334</td>\n",
       "      <td>450091365.0</td>\n",
       "      <td>28.729334</td>\n",
       "    </tr>\n",
       "    <tr>\n",
       "      <th>2020-12-31</th>\n",
       "      <td>239.573334</td>\n",
       "      <td>230.373337</td>\n",
       "      <td>233.330002</td>\n",
       "      <td>235.223328</td>\n",
       "      <td>914081370.0</td>\n",
       "      <td>235.223328</td>\n",
       "    </tr>\n",
       "    <tr>\n",
       "      <th>2021-12-31</th>\n",
       "      <td>414.496674</td>\n",
       "      <td>405.666656</td>\n",
       "      <td>411.470001</td>\n",
       "      <td>409.970001</td>\n",
       "      <td>268189377.0</td>\n",
       "      <td>409.970001</td>\n",
       "    </tr>\n",
       "    <tr>\n",
       "      <th>2022-12-30</th>\n",
       "      <td>402.666656</td>\n",
       "      <td>378.679993</td>\n",
       "      <td>396.516663</td>\n",
       "      <td>399.926666</td>\n",
       "      <td>152375142.0</td>\n",
       "      <td>399.926666</td>\n",
       "    </tr>\n",
       "  </tbody>\n",
       "</table>\n",
       "</div>"
      ],
      "text/plain": [
       "                  High         Low        Open       Close       Volume  \\\n",
       "Date                                                                      \n",
       "2017-12-29   25.974001   25.178665   25.350000   25.666666  296871240.0   \n",
       "2018-12-31   25.830666   24.474667   25.000000   25.304667  504745410.0   \n",
       "2019-12-31   29.020666   28.423332   29.000000   28.729334  450091365.0   \n",
       "2020-12-31  239.573334  230.373337  233.330002  235.223328  914081370.0   \n",
       "2021-12-31  414.496674  405.666656  411.470001  409.970001  268189377.0   \n",
       "2022-12-30  402.666656  378.679993  396.516663  399.926666  152375142.0   \n",
       "\n",
       "             Adj Close  \n",
       "Date                    \n",
       "2017-12-29   25.666666  \n",
       "2018-12-31   25.304667  \n",
       "2019-12-31   28.729334  \n",
       "2020-12-31  235.223328  \n",
       "2021-12-31  409.970001  \n",
       "2022-12-30  399.926666  "
      ]
     },
     "execution_count": 87,
     "metadata": {},
     "output_type": "execute_result"
    }
   ],
   "source": [
    "# Business End Frequency\n",
    "df_tesla.resample(rule='BA').max()"
   ]
  },
  {
   "cell_type": "code",
   "execution_count": 88,
   "id": "f8e8b8a2",
   "metadata": {},
   "outputs": [
    {
     "data": {
      "text/plain": [
       "<AxesSubplot:xlabel='Date'>"
      ]
     },
     "execution_count": 88,
     "metadata": {},
     "output_type": "execute_result"
    },
    {
     "data": {
      "image/png": "[encoded data removed]",
      "text/plain": [
       "<Figure size 432x288 with 1 Axes>"
      ]
     },
     "metadata": {
      "needs_background": "light"
     },
     "output_type": "display_data"
    }
   ],
   "source": [
    "df_tesla.resample(rule='BA').max()['High'].plot()"
   ]
  },
  {
   "cell_type": "code",
   "execution_count": 90,
   "id": "941bb800",
   "metadata": {},
   "outputs": [
    {
     "data": {
      "text/html": [
       "<div>\n",
       "<style scoped>\n",
       "    .dataframe tbody tr th:only-of-type {\n",
       "        vertical-align: middle;\n",
       "    }\n",
       "\n",
       "    .dataframe tbody tr th {\n",
       "        vertical-align: top;\n",
       "    }\n",
       "\n",
       "    .dataframe thead th {\n",
       "        text-align: right;\n",
       "    }\n",
       "</style>\n",
       "<table border=\"1\" class=\"dataframe\">\n",
       "  <thead>\n",
       "    <tr style=\"text-align: right;\">\n",
       "      <th></th>\n",
       "      <th>High</th>\n",
       "      <th>Low</th>\n",
       "      <th>Open</th>\n",
       "      <th>Close</th>\n",
       "      <th>Volume</th>\n",
       "      <th>Adj Close</th>\n",
       "    </tr>\n",
       "    <tr>\n",
       "      <th>Date</th>\n",
       "      <th></th>\n",
       "      <th></th>\n",
       "      <th></th>\n",
       "      <th></th>\n",
       "      <th></th>\n",
       "      <th></th>\n",
       "    </tr>\n",
       "  </thead>\n",
       "  <tbody>\n",
       "    <tr>\n",
       "      <th>2017-07-03</th>\n",
       "      <td>25.974001</td>\n",
       "      <td>25.178665</td>\n",
       "      <td>25.350000</td>\n",
       "      <td>25.666666</td>\n",
       "      <td>122391270.0</td>\n",
       "      <td>25.666666</td>\n",
       "    </tr>\n",
       "    <tr>\n",
       "      <th>2017-10-02</th>\n",
       "      <td>24.200001</td>\n",
       "      <td>23.608665</td>\n",
       "      <td>23.798666</td>\n",
       "      <td>23.976665</td>\n",
       "      <td>296871240.0</td>\n",
       "      <td>23.976665</td>\n",
       "    </tr>\n",
       "    <tr>\n",
       "      <th>2018-01-01</th>\n",
       "      <td>24.033333</td>\n",
       "      <td>23.490334</td>\n",
       "      <td>24.000000</td>\n",
       "      <td>23.827999</td>\n",
       "      <td>315021555.0</td>\n",
       "      <td>23.827999</td>\n",
       "    </tr>\n",
       "    <tr>\n",
       "      <th>2018-04-02</th>\n",
       "      <td>24.915333</td>\n",
       "      <td>23.633333</td>\n",
       "      <td>24.344000</td>\n",
       "      <td>24.722000</td>\n",
       "      <td>335211045.0</td>\n",
       "      <td>24.722000</td>\n",
       "    </tr>\n",
       "    <tr>\n",
       "      <th>2018-07-02</th>\n",
       "      <td>25.830666</td>\n",
       "      <td>24.474667</td>\n",
       "      <td>24.606001</td>\n",
       "      <td>25.304667</td>\n",
       "      <td>504745410.0</td>\n",
       "      <td>25.304667</td>\n",
       "    </tr>\n",
       "    <tr>\n",
       "      <th>2018-10-01</th>\n",
       "      <td>25.299334</td>\n",
       "      <td>24.450001</td>\n",
       "      <td>25.000000</td>\n",
       "      <td>25.119333</td>\n",
       "      <td>411382800.0</td>\n",
       "      <td>25.119333</td>\n",
       "    </tr>\n",
       "    <tr>\n",
       "      <th>2019-01-01</th>\n",
       "      <td>23.466665</td>\n",
       "      <td>22.943333</td>\n",
       "      <td>23.080666</td>\n",
       "      <td>23.153999</td>\n",
       "      <td>362261445.0</td>\n",
       "      <td>23.153999</td>\n",
       "    </tr>\n",
       "    <tr>\n",
       "      <th>2019-04-01</th>\n",
       "      <td>19.744665</td>\n",
       "      <td>19.144667</td>\n",
       "      <td>19.219999</td>\n",
       "      <td>19.454000</td>\n",
       "      <td>398207130.0</td>\n",
       "      <td>19.454000</td>\n",
       "    </tr>\n",
       "    <tr>\n",
       "      <th>2019-07-01</th>\n",
       "      <td>17.738001</td>\n",
       "      <td>17.210672</td>\n",
       "      <td>17.278000</td>\n",
       "      <td>17.658667</td>\n",
       "      <td>336273780.0</td>\n",
       "      <td>17.658667</td>\n",
       "    </tr>\n",
       "    <tr>\n",
       "      <th>2019-10-01</th>\n",
       "      <td>29.020666</td>\n",
       "      <td>28.423332</td>\n",
       "      <td>29.000000</td>\n",
       "      <td>28.729334</td>\n",
       "      <td>450091365.0</td>\n",
       "      <td>28.729334</td>\n",
       "    </tr>\n",
       "    <tr>\n",
       "      <th>2020-01-01</th>\n",
       "      <td>64.599327</td>\n",
       "      <td>60.068001</td>\n",
       "      <td>61.566666</td>\n",
       "      <td>61.161331</td>\n",
       "      <td>914081370.0</td>\n",
       "      <td>61.161331</td>\n",
       "    </tr>\n",
       "    <tr>\n",
       "      <th>2020-04-01</th>\n",
       "      <td>72.512665</td>\n",
       "      <td>66.915337</td>\n",
       "      <td>67.518669</td>\n",
       "      <td>71.987335</td>\n",
       "      <td>487977105.0</td>\n",
       "      <td>71.987335</td>\n",
       "    </tr>\n",
       "    <tr>\n",
       "      <th>2020-07-01</th>\n",
       "      <td>167.496674</td>\n",
       "      <td>156.836670</td>\n",
       "      <td>167.380005</td>\n",
       "      <td>166.106659</td>\n",
       "      <td>584780430.0</td>\n",
       "      <td>166.106659</td>\n",
       "    </tr>\n",
       "    <tr>\n",
       "      <th>2020-10-01</th>\n",
       "      <td>239.573334</td>\n",
       "      <td>230.373337</td>\n",
       "      <td>233.330002</td>\n",
       "      <td>235.223328</td>\n",
       "      <td>666378582.0</td>\n",
       "      <td>235.223328</td>\n",
       "    </tr>\n",
       "    <tr>\n",
       "      <th>2021-01-01</th>\n",
       "      <td>300.133331</td>\n",
       "      <td>290.533325</td>\n",
       "      <td>297.126678</td>\n",
       "      <td>294.363342</td>\n",
       "      <td>268189377.0</td>\n",
       "      <td>294.363342</td>\n",
       "    </tr>\n",
       "    <tr>\n",
       "      <th>2021-04-01</th>\n",
       "      <td>260.263336</td>\n",
       "      <td>244.201767</td>\n",
       "      <td>256.899994</td>\n",
       "      <td>254.106659</td>\n",
       "      <td>147052302.0</td>\n",
       "      <td>254.106659</td>\n",
       "    </tr>\n",
       "    <tr>\n",
       "      <th>2021-07-01</th>\n",
       "      <td>266.333344</td>\n",
       "      <td>258.333344</td>\n",
       "      <td>262.399994</td>\n",
       "      <td>263.786652</td>\n",
       "      <td>100847295.0</td>\n",
       "      <td>263.786652</td>\n",
       "    </tr>\n",
       "    <tr>\n",
       "      <th>2021-10-01</th>\n",
       "      <td>414.496674</td>\n",
       "      <td>405.666656</td>\n",
       "      <td>411.470001</td>\n",
       "      <td>409.970001</td>\n",
       "      <td>188556297.0</td>\n",
       "      <td>409.970001</td>\n",
       "    </tr>\n",
       "    <tr>\n",
       "      <th>2022-01-03</th>\n",
       "      <td>402.666656</td>\n",
       "      <td>378.679993</td>\n",
       "      <td>396.516663</td>\n",
       "      <td>399.926666</td>\n",
       "      <td>152375142.0</td>\n",
       "      <td>399.926666</td>\n",
       "    </tr>\n",
       "    <tr>\n",
       "      <th>2022-04-01</th>\n",
       "      <td>384.290009</td>\n",
       "      <td>362.433319</td>\n",
       "      <td>378.766663</td>\n",
       "      <td>381.816681</td>\n",
       "      <td>144973305.0</td>\n",
       "      <td>381.816681</td>\n",
       "    </tr>\n",
       "    <tr>\n",
       "      <th>2022-07-01</th>\n",
       "      <td>314.666656</td>\n",
       "      <td>305.000000</td>\n",
       "      <td>311.666656</td>\n",
       "      <td>309.320007</td>\n",
       "      <td>142032177.0</td>\n",
       "      <td>309.320007</td>\n",
       "    </tr>\n",
       "  </tbody>\n",
       "</table>\n",
       "</div>"
      ],
      "text/plain": [
       "                  High         Low        Open       Close       Volume  \\\n",
       "Date                                                                      \n",
       "2017-07-03   25.974001   25.178665   25.350000   25.666666  122391270.0   \n",
       "2017-10-02   24.200001   23.608665   23.798666   23.976665  296871240.0   \n",
       "2018-01-01   24.033333   23.490334   24.000000   23.827999  315021555.0   \n",
       "2018-04-02   24.915333   23.633333   24.344000   24.722000  335211045.0   \n",
       "2018-07-02   25.830666   24.474667   24.606001   25.304667  504745410.0   \n",
       "2018-10-01   25.299334   24.450001   25.000000   25.119333  411382800.0   \n",
       "2019-01-01   23.466665   22.943333   23.080666   23.153999  362261445.0   \n",
       "2019-04-01   19.744665   19.144667   19.219999   19.454000  398207130.0   \n",
       "2019-07-01   17.738001   17.210672   17.278000   17.658667  336273780.0   \n",
       "2019-10-01   29.020666   28.423332   29.000000   28.729334  450091365.0   \n",
       "2020-01-01   64.599327   60.068001   61.566666   61.161331  914081370.0   \n",
       "2020-04-01   72.512665   66.915337   67.518669   71.987335  487977105.0   \n",
       "2020-07-01  167.496674  156.836670  167.380005  166.106659  584780430.0   \n",
       "2020-10-01  239.573334  230.373337  233.330002  235.223328  666378582.0   \n",
       "2021-01-01  300.133331  290.533325  297.126678  294.363342  268189377.0   \n",
       "2021-04-01  260.263336  244.201767  256.899994  254.106659  147052302.0   \n",
       "2021-07-01  266.333344  258.333344  262.399994  263.786652  100847295.0   \n",
       "2021-10-01  414.496674  405.666656  411.470001  409.970001  188556297.0   \n",
       "2022-01-03  402.666656  378.679993  396.516663  399.926666  152375142.0   \n",
       "2022-04-01  384.290009  362.433319  378.766663  381.816681  144973305.0   \n",
       "2022-07-01  314.666656  305.000000  311.666656  309.320007  142032177.0   \n",
       "\n",
       "             Adj Close  \n",
       "Date                    \n",
       "2017-07-03   25.666666  \n",
       "2017-10-02   23.976665  \n",
       "2018-01-01   23.827999  \n",
       "2018-04-02   24.722000  \n",
       "2018-07-02   25.304667  \n",
       "2018-10-01   25.119333  \n",
       "2019-01-01   23.153999  \n",
       "2019-04-01   19.454000  \n",
       "2019-07-01   17.658667  \n",
       "2019-10-01   28.729334  \n",
       "2020-01-01   61.161331  \n",
       "2020-04-01   71.987335  \n",
       "2020-07-01  166.106659  \n",
       "2020-10-01  235.223328  \n",
       "2021-01-01  294.363342  \n",
       "2021-04-01  254.106659  \n",
       "2021-07-01  263.786652  \n",
       "2021-10-01  409.970001  \n",
       "2022-01-03  399.926666  \n",
       "2022-04-01  381.816681  \n",
       "2022-07-01  309.320007  "
      ]
     },
     "execution_count": 90,
     "metadata": {},
     "output_type": "execute_result"
    }
   ],
   "source": [
    "#business quarter\n",
    "df_tesla.resample(rule='BQS').max()"
   ]
  },
  {
   "cell_type": "code",
   "execution_count": 91,
   "id": "941a1ed8",
   "metadata": {},
   "outputs": [
    {
     "data": {
      "text/plain": [
       "<AxesSubplot:xlabel='Date'>"
      ]
     },
     "execution_count": 91,
     "metadata": {},
     "output_type": "execute_result"
    },
    {
     "data": {
      "image/png": "[encoded data removed]",
      "text/plain": [
       "<Figure size 432x288 with 1 Axes>"
      ]
     },
     "metadata": {
      "needs_background": "light"
     },
     "output_type": "display_data"
    }
   ],
   "source": [
    "df_tesla.resample(rule='BQS').max()['High'].plot()"
   ]
  },
  {
   "cell_type": "code",
   "execution_count": 93,
   "id": "5d8ae41f",
   "metadata": {},
   "outputs": [
    {
     "data": {
      "text/plain": [
       "<AxesSubplot:xlabel='Date'>"
      ]
     },
     "execution_count": 93,
     "metadata": {},
     "output_type": "execute_result"
    },
    {
     "data": {
      "image/png": "[encoded data removed]",
      "text/plain": [
       "<Figure size 432x288 with 1 Axes>"
      ]
     },
     "metadata": {
      "needs_background": "light"
     },
     "output_type": "display_data"
    }
   ],
   "source": [
    "#PLOTTING\n",
    "df_tesla['Open'].resample(rule='BA').mean().plot(kind='bar')"
   ]
  },
  {
   "cell_type": "code",
   "execution_count": 94,
   "id": "bfedd9eb",
   "metadata": {},
   "outputs": [
    {
     "data": {
      "text/plain": [
       "<AxesSubplot:xlabel='Date'>"
      ]
     },
     "execution_count": 94,
     "metadata": {},
     "output_type": "execute_result"
    },
    {
     "data": {
      "image/png": "[encoded data removed]",
      "text/plain": [
       "<Figure size 432x288 with 1 Axes>"
      ]
     },
     "metadata": {
      "needs_background": "light"
     },
     "output_type": "display_data"
    }
   ],
   "source": [
    "df_tesla['Open'].resample(rule='A').mean().plot(kind='bar')"
   ]
  },
  {
   "cell_type": "code",
   "execution_count": 101,
   "id": "f1c49c2f",
   "metadata": {},
   "outputs": [
    {
     "data": {
      "text/plain": [
       "<AxesSubplot:xlabel='Date'>"
      ]
     },
     "execution_count": 101,
     "metadata": {},
     "output_type": "execute_result"
    },
    {
     "data": {
      "image/png": "[encoded data removed]",
      "text/plain": [
       "<Figure size 1080x288 with 1 Axes>"
      ]
     },
     "metadata": {
      "needs_background": "light"
     },
     "output_type": "display_data"
    }
   ],
   "source": [
    "df_tesla['Open'].resample(rule='m').max().plot(kind='bar',figsize=(15,4))"
   ]
  },
  {
   "cell_type": "code",
   "execution_count": 102,
   "id": "9441ebef",
   "metadata": {},
   "outputs": [],
   "source": [
    "# Rolling\n",
    "# Expanding"
   ]
  },
  {
   "cell_type": "code",
   "execution_count": 115,
   "id": "78d93e4c",
   "metadata": {},
   "outputs": [
    {
     "data": {
      "text/plain": [
       "Date\n",
       "2017-08-28          NaN\n",
       "2017-08-29          NaN\n",
       "2017-08-30          NaN\n",
       "2017-08-31          NaN\n",
       "2017-09-01          NaN\n",
       "2017-09-05          NaN\n",
       "2017-09-06          NaN\n",
       "2017-09-07          NaN\n",
       "2017-09-08          NaN\n",
       "2017-09-11    23.588927\n",
       "2017-09-12    23.731660\n",
       "2017-09-13    23.858460\n",
       "2017-09-14    24.021726\n",
       "2017-09-15    24.165460\n",
       "2017-09-18    24.378926\n",
       "2017-09-19    24.558260\n",
       "2017-09-20    24.740060\n",
       "2017-09-21    24.902393\n",
       "2017-09-22    25.036526\n",
       "2017-09-25    24.994919\n",
       "Name: High, dtype: float64"
      ]
     },
     "execution_count": 115,
     "metadata": {},
     "output_type": "execute_result"
    }
   ],
   "source": [
    "df_tesla['High'].rolling(10).mean().head(20)"
   ]
  },
  {
   "cell_type": "code",
   "execution_count": 113,
   "id": "8e0240d6",
   "metadata": {},
   "outputs": [
    {
     "data": {
      "text/html": [
       "<div>\n",
       "<style scoped>\n",
       "    .dataframe tbody tr th:only-of-type {\n",
       "        vertical-align: middle;\n",
       "    }\n",
       "\n",
       "    .dataframe tbody tr th {\n",
       "        vertical-align: top;\n",
       "    }\n",
       "\n",
       "    .dataframe thead th {\n",
       "        text-align: right;\n",
       "    }\n",
       "</style>\n",
       "<table border=\"1\" class=\"dataframe\">\n",
       "  <thead>\n",
       "    <tr style=\"text-align: right;\">\n",
       "      <th></th>\n",
       "      <th>High</th>\n",
       "      <th>Low</th>\n",
       "      <th>Open</th>\n",
       "      <th>Close</th>\n",
       "      <th>Volume</th>\n",
       "      <th>Adj Close</th>\n",
       "    </tr>\n",
       "    <tr>\n",
       "      <th>Date</th>\n",
       "      <th></th>\n",
       "      <th></th>\n",
       "      <th></th>\n",
       "      <th></th>\n",
       "      <th></th>\n",
       "      <th></th>\n",
       "    </tr>\n",
       "  </thead>\n",
       "  <tbody>\n",
       "    <tr>\n",
       "      <th>2017-08-28</th>\n",
       "      <td>23.156666</td>\n",
       "      <td>22.648001</td>\n",
       "      <td>23.152000</td>\n",
       "      <td>23.044001</td>\n",
       "      <td>56459340.0</td>\n",
       "      <td>23.044001</td>\n",
       "    </tr>\n",
       "    <tr>\n",
       "      <th>2017-08-29</th>\n",
       "      <td>23.270000</td>\n",
       "      <td>22.583332</td>\n",
       "      <td>22.632000</td>\n",
       "      <td>23.157333</td>\n",
       "      <td>61105125.0</td>\n",
       "      <td>23.157333</td>\n",
       "    </tr>\n",
       "    <tr>\n",
       "      <th>2017-08-30</th>\n",
       "      <td>23.564667</td>\n",
       "      <td>23.133333</td>\n",
       "      <td>23.311333</td>\n",
       "      <td>23.545334</td>\n",
       "      <td>51194145.0</td>\n",
       "      <td>23.545334</td>\n",
       "    </tr>\n",
       "    <tr>\n",
       "      <th>2017-08-31</th>\n",
       "      <td>23.896000</td>\n",
       "      <td>23.521334</td>\n",
       "      <td>23.570000</td>\n",
       "      <td>23.726665</td>\n",
       "      <td>61091925.0</td>\n",
       "      <td>23.726665</td>\n",
       "    </tr>\n",
       "    <tr>\n",
       "      <th>2017-09-01</th>\n",
       "      <td>23.839333</td>\n",
       "      <td>23.579346</td>\n",
       "      <td>23.741333</td>\n",
       "      <td>23.693333</td>\n",
       "      <td>45743190.0</td>\n",
       "      <td>23.693333</td>\n",
       "    </tr>\n",
       "    <tr>\n",
       "      <th>2017-09-05</th>\n",
       "      <td>23.699333</td>\n",
       "      <td>23.059334</td>\n",
       "      <td>23.586666</td>\n",
       "      <td>23.306000</td>\n",
       "      <td>57725730.0</td>\n",
       "      <td>23.306000</td>\n",
       "    </tr>\n",
       "    <tr>\n",
       "      <th>2017-09-06</th>\n",
       "      <td>23.398600</td>\n",
       "      <td>22.770666</td>\n",
       "      <td>23.299999</td>\n",
       "      <td>22.968666</td>\n",
       "      <td>61370265.0</td>\n",
       "      <td>22.968666</td>\n",
       "    </tr>\n",
       "    <tr>\n",
       "      <th>2017-09-07</th>\n",
       "      <td>23.498667</td>\n",
       "      <td>22.896666</td>\n",
       "      <td>23.065332</td>\n",
       "      <td>23.374001</td>\n",
       "      <td>63588195.0</td>\n",
       "      <td>23.374001</td>\n",
       "    </tr>\n",
       "    <tr>\n",
       "      <th>2017-09-08</th>\n",
       "      <td>23.318666</td>\n",
       "      <td>22.820000</td>\n",
       "      <td>23.266001</td>\n",
       "      <td>22.893333</td>\n",
       "      <td>48952620.0</td>\n",
       "      <td>22.893333</td>\n",
       "    </tr>\n",
       "    <tr>\n",
       "      <th>2017-09-11</th>\n",
       "      <td>24.247334</td>\n",
       "      <td>23.333332</td>\n",
       "      <td>23.423332</td>\n",
       "      <td>24.246000</td>\n",
       "      <td>115005825.0</td>\n",
       "      <td>24.246000</td>\n",
       "    </tr>\n",
       "    <tr>\n",
       "      <th>2017-09-12</th>\n",
       "      <td>24.584000</td>\n",
       "      <td>24.026667</td>\n",
       "      <td>24.299334</td>\n",
       "      <td>24.183332</td>\n",
       "      <td>89593605.0</td>\n",
       "      <td>24.183332</td>\n",
       "    </tr>\n",
       "    <tr>\n",
       "      <th>2017-09-13</th>\n",
       "      <td>24.538000</td>\n",
       "      <td>23.972666</td>\n",
       "      <td>24.254665</td>\n",
       "      <td>24.415333</td>\n",
       "      <td>62778465.0</td>\n",
       "      <td>24.415333</td>\n",
       "    </tr>\n",
       "    <tr>\n",
       "      <th>2017-09-14</th>\n",
       "      <td>25.197332</td>\n",
       "      <td>24.175333</td>\n",
       "      <td>24.288666</td>\n",
       "      <td>25.176001</td>\n",
       "      <td>108037860.0</td>\n",
       "      <td>25.176001</td>\n",
       "    </tr>\n",
       "    <tr>\n",
       "      <th>2017-09-15</th>\n",
       "      <td>25.333332</td>\n",
       "      <td>24.846666</td>\n",
       "      <td>24.967333</td>\n",
       "      <td>25.320665</td>\n",
       "      <td>81307440.0</td>\n",
       "      <td>25.320665</td>\n",
       "    </tr>\n",
       "    <tr>\n",
       "      <th>2017-09-18</th>\n",
       "      <td>25.974001</td>\n",
       "      <td>25.178665</td>\n",
       "      <td>25.350000</td>\n",
       "      <td>25.666666</td>\n",
       "      <td>107819700.0</td>\n",
       "      <td>25.666666</td>\n",
       "    </tr>\n",
       "    <tr>\n",
       "      <th>2017-09-19</th>\n",
       "      <td>25.492666</td>\n",
       "      <td>24.904667</td>\n",
       "      <td>25.333332</td>\n",
       "      <td>25.006666</td>\n",
       "      <td>96778290.0</td>\n",
       "      <td>25.006666</td>\n",
       "    </tr>\n",
       "    <tr>\n",
       "      <th>2017-09-20</th>\n",
       "      <td>25.216600</td>\n",
       "      <td>24.738001</td>\n",
       "      <td>24.866667</td>\n",
       "      <td>24.927334</td>\n",
       "      <td>73785780.0</td>\n",
       "      <td>24.927334</td>\n",
       "    </tr>\n",
       "    <tr>\n",
       "      <th>2017-09-21</th>\n",
       "      <td>25.122000</td>\n",
       "      <td>24.300667</td>\n",
       "      <td>24.993334</td>\n",
       "      <td>24.431999</td>\n",
       "      <td>69272850.0</td>\n",
       "      <td>24.431999</td>\n",
       "    </tr>\n",
       "    <tr>\n",
       "      <th>2017-09-22</th>\n",
       "      <td>24.659992</td>\n",
       "      <td>23.392000</td>\n",
       "      <td>24.432667</td>\n",
       "      <td>23.406000</td>\n",
       "      <td>122391270.0</td>\n",
       "      <td>23.406000</td>\n",
       "    </tr>\n",
       "    <tr>\n",
       "      <th>2017-09-25</th>\n",
       "      <td>23.831266</td>\n",
       "      <td>22.858665</td>\n",
       "      <td>23.543333</td>\n",
       "      <td>22.999332</td>\n",
       "      <td>114089190.0</td>\n",
       "      <td>22.999332</td>\n",
       "    </tr>\n",
       "  </tbody>\n",
       "</table>\n",
       "</div>"
      ],
      "text/plain": [
       "                 High        Low       Open      Close       Volume  Adj Close\n",
       "Date                                                                          \n",
       "2017-08-28  23.156666  22.648001  23.152000  23.044001   56459340.0  23.044001\n",
       "2017-08-29  23.270000  22.583332  22.632000  23.157333   61105125.0  23.157333\n",
       "2017-08-30  23.564667  23.133333  23.311333  23.545334   51194145.0  23.545334\n",
       "2017-08-31  23.896000  23.521334  23.570000  23.726665   61091925.0  23.726665\n",
       "2017-09-01  23.839333  23.579346  23.741333  23.693333   45743190.0  23.693333\n",
       "2017-09-05  23.699333  23.059334  23.586666  23.306000   57725730.0  23.306000\n",
       "2017-09-06  23.398600  22.770666  23.299999  22.968666   61370265.0  22.968666\n",
       "2017-09-07  23.498667  22.896666  23.065332  23.374001   63588195.0  23.374001\n",
       "2017-09-08  23.318666  22.820000  23.266001  22.893333   48952620.0  22.893333\n",
       "2017-09-11  24.247334  23.333332  23.423332  24.246000  115005825.0  24.246000\n",
       "2017-09-12  24.584000  24.026667  24.299334  24.183332   89593605.0  24.183332\n",
       "2017-09-13  24.538000  23.972666  24.254665  24.415333   62778465.0  24.415333\n",
       "2017-09-14  25.197332  24.175333  24.288666  25.176001  108037860.0  25.176001\n",
       "2017-09-15  25.333332  24.846666  24.967333  25.320665   81307440.0  25.320665\n",
       "2017-09-18  25.974001  25.178665  25.350000  25.666666  107819700.0  25.666666\n",
       "2017-09-19  25.492666  24.904667  25.333332  25.006666   96778290.0  25.006666\n",
       "2017-09-20  25.216600  24.738001  24.866667  24.927334   73785780.0  24.927334\n",
       "2017-09-21  25.122000  24.300667  24.993334  24.431999   69272850.0  24.431999\n",
       "2017-09-22  24.659992  23.392000  24.432667  23.406000  122391270.0  23.406000\n",
       "2017-09-25  23.831266  22.858665  23.543333  22.999332  114089190.0  22.999332"
      ]
     },
     "execution_count": 113,
     "metadata": {},
     "output_type": "execute_result"
    }
   ],
   "source": [
    "df_tesla.head(20)"
   ]
  },
  {
   "cell_type": "code",
   "execution_count": 116,
   "id": "345bca58",
   "metadata": {},
   "outputs": [
    {
     "data": {
      "text/plain": [
       "Date\n",
       "2017-08-28          NaN\n",
       "2017-08-29          NaN\n",
       "2017-08-30          NaN\n",
       "2017-08-31          NaN\n",
       "2017-09-01          NaN\n",
       "2017-09-05          NaN\n",
       "2017-09-06          NaN\n",
       "2017-09-07          NaN\n",
       "2017-09-08          NaN\n",
       "2017-09-11    24.247334\n",
       "2017-09-12    24.584000\n",
       "2017-09-13    24.584000\n",
       "2017-09-14    25.197332\n",
       "2017-09-15    25.333332\n",
       "2017-09-18    25.974001\n",
       "2017-09-19    25.974001\n",
       "2017-09-20    25.974001\n",
       "2017-09-21    25.974001\n",
       "2017-09-22    25.974001\n",
       "2017-09-25    25.974001\n",
       "Name: High, dtype: float64"
      ]
     },
     "execution_count": 116,
     "metadata": {},
     "output_type": "execute_result"
    }
   ],
   "source": [
    "df_tesla['High'].rolling(10).max().head(20)"
   ]
  },
  {
   "cell_type": "code",
   "execution_count": 117,
   "id": "d5726f75",
   "metadata": {},
   "outputs": [],
   "source": [
    "df_tesla['Open:30 days rolling'] = df_tesla['Open'].rolling(30).mean()"
   ]
  },
  {
   "cell_type": "code",
   "execution_count": 120,
   "id": "a1d91648",
   "metadata": {},
   "outputs": [
    {
     "data": {
      "text/html": [
       "<div>\n",
       "<style scoped>\n",
       "    .dataframe tbody tr th:only-of-type {\n",
       "        vertical-align: middle;\n",
       "    }\n",
       "\n",
       "    .dataframe tbody tr th {\n",
       "        vertical-align: top;\n",
       "    }\n",
       "\n",
       "    .dataframe thead th {\n",
       "        text-align: right;\n",
       "    }\n",
       "</style>\n",
       "<table border=\"1\" class=\"dataframe\">\n",
       "  <thead>\n",
       "    <tr style=\"text-align: right;\">\n",
       "      <th></th>\n",
       "      <th>High</th>\n",
       "      <th>Low</th>\n",
       "      <th>Open</th>\n",
       "      <th>Close</th>\n",
       "      <th>Volume</th>\n",
       "      <th>Adj Close</th>\n",
       "      <th>Open:30 days rolling</th>\n",
       "    </tr>\n",
       "    <tr>\n",
       "      <th>Date</th>\n",
       "      <th></th>\n",
       "      <th></th>\n",
       "      <th></th>\n",
       "      <th></th>\n",
       "      <th></th>\n",
       "      <th></th>\n",
       "      <th></th>\n",
       "    </tr>\n",
       "  </thead>\n",
       "  <tbody>\n",
       "    <tr>\n",
       "      <th>2017-08-28</th>\n",
       "      <td>23.156666</td>\n",
       "      <td>22.648001</td>\n",
       "      <td>23.152000</td>\n",
       "      <td>23.044001</td>\n",
       "      <td>56459340.0</td>\n",
       "      <td>23.044001</td>\n",
       "      <td>NaN</td>\n",
       "    </tr>\n",
       "    <tr>\n",
       "      <th>2017-08-29</th>\n",
       "      <td>23.270000</td>\n",
       "      <td>22.583332</td>\n",
       "      <td>22.632000</td>\n",
       "      <td>23.157333</td>\n",
       "      <td>61105125.0</td>\n",
       "      <td>23.157333</td>\n",
       "      <td>NaN</td>\n",
       "    </tr>\n",
       "    <tr>\n",
       "      <th>2017-08-30</th>\n",
       "      <td>23.564667</td>\n",
       "      <td>23.133333</td>\n",
       "      <td>23.311333</td>\n",
       "      <td>23.545334</td>\n",
       "      <td>51194145.0</td>\n",
       "      <td>23.545334</td>\n",
       "      <td>NaN</td>\n",
       "    </tr>\n",
       "    <tr>\n",
       "      <th>2017-08-31</th>\n",
       "      <td>23.896000</td>\n",
       "      <td>23.521334</td>\n",
       "      <td>23.570000</td>\n",
       "      <td>23.726665</td>\n",
       "      <td>61091925.0</td>\n",
       "      <td>23.726665</td>\n",
       "      <td>NaN</td>\n",
       "    </tr>\n",
       "    <tr>\n",
       "      <th>2017-09-01</th>\n",
       "      <td>23.839333</td>\n",
       "      <td>23.579346</td>\n",
       "      <td>23.741333</td>\n",
       "      <td>23.693333</td>\n",
       "      <td>45743190.0</td>\n",
       "      <td>23.693333</td>\n",
       "      <td>NaN</td>\n",
       "    </tr>\n",
       "    <tr>\n",
       "      <th>2017-09-05</th>\n",
       "      <td>23.699333</td>\n",
       "      <td>23.059334</td>\n",
       "      <td>23.586666</td>\n",
       "      <td>23.306000</td>\n",
       "      <td>57725730.0</td>\n",
       "      <td>23.306000</td>\n",
       "      <td>NaN</td>\n",
       "    </tr>\n",
       "    <tr>\n",
       "      <th>2017-09-06</th>\n",
       "      <td>23.398600</td>\n",
       "      <td>22.770666</td>\n",
       "      <td>23.299999</td>\n",
       "      <td>22.968666</td>\n",
       "      <td>61370265.0</td>\n",
       "      <td>22.968666</td>\n",
       "      <td>NaN</td>\n",
       "    </tr>\n",
       "    <tr>\n",
       "      <th>2017-09-07</th>\n",
       "      <td>23.498667</td>\n",
       "      <td>22.896666</td>\n",
       "      <td>23.065332</td>\n",
       "      <td>23.374001</td>\n",
       "      <td>63588195.0</td>\n",
       "      <td>23.374001</td>\n",
       "      <td>NaN</td>\n",
       "    </tr>\n",
       "    <tr>\n",
       "      <th>2017-09-08</th>\n",
       "      <td>23.318666</td>\n",
       "      <td>22.820000</td>\n",
       "      <td>23.266001</td>\n",
       "      <td>22.893333</td>\n",
       "      <td>48952620.0</td>\n",
       "      <td>22.893333</td>\n",
       "      <td>NaN</td>\n",
       "    </tr>\n",
       "    <tr>\n",
       "      <th>2017-09-11</th>\n",
       "      <td>24.247334</td>\n",
       "      <td>23.333332</td>\n",
       "      <td>23.423332</td>\n",
       "      <td>24.246000</td>\n",
       "      <td>115005825.0</td>\n",
       "      <td>24.246000</td>\n",
       "      <td>NaN</td>\n",
       "    </tr>\n",
       "    <tr>\n",
       "      <th>2017-09-12</th>\n",
       "      <td>24.584000</td>\n",
       "      <td>24.026667</td>\n",
       "      <td>24.299334</td>\n",
       "      <td>24.183332</td>\n",
       "      <td>89593605.0</td>\n",
       "      <td>24.183332</td>\n",
       "      <td>NaN</td>\n",
       "    </tr>\n",
       "    <tr>\n",
       "      <th>2017-09-13</th>\n",
       "      <td>24.538000</td>\n",
       "      <td>23.972666</td>\n",
       "      <td>24.254665</td>\n",
       "      <td>24.415333</td>\n",
       "      <td>62778465.0</td>\n",
       "      <td>24.415333</td>\n",
       "      <td>NaN</td>\n",
       "    </tr>\n",
       "    <tr>\n",
       "      <th>2017-09-14</th>\n",
       "      <td>25.197332</td>\n",
       "      <td>24.175333</td>\n",
       "      <td>24.288666</td>\n",
       "      <td>25.176001</td>\n",
       "      <td>108037860.0</td>\n",
       "      <td>25.176001</td>\n",
       "      <td>NaN</td>\n",
       "    </tr>\n",
       "    <tr>\n",
       "      <th>2017-09-15</th>\n",
       "      <td>25.333332</td>\n",
       "      <td>24.846666</td>\n",
       "      <td>24.967333</td>\n",
       "      <td>25.320665</td>\n",
       "      <td>81307440.0</td>\n",
       "      <td>25.320665</td>\n",
       "      <td>NaN</td>\n",
       "    </tr>\n",
       "    <tr>\n",
       "      <th>2017-09-18</th>\n",
       "      <td>25.974001</td>\n",
       "      <td>25.178665</td>\n",
       "      <td>25.350000</td>\n",
       "      <td>25.666666</td>\n",
       "      <td>107819700.0</td>\n",
       "      <td>25.666666</td>\n",
       "      <td>NaN</td>\n",
       "    </tr>\n",
       "    <tr>\n",
       "      <th>2017-09-19</th>\n",
       "      <td>25.492666</td>\n",
       "      <td>24.904667</td>\n",
       "      <td>25.333332</td>\n",
       "      <td>25.006666</td>\n",
       "      <td>96778290.0</td>\n",
       "      <td>25.006666</td>\n",
       "      <td>NaN</td>\n",
       "    </tr>\n",
       "    <tr>\n",
       "      <th>2017-09-20</th>\n",
       "      <td>25.216600</td>\n",
       "      <td>24.738001</td>\n",
       "      <td>24.866667</td>\n",
       "      <td>24.927334</td>\n",
       "      <td>73785780.0</td>\n",
       "      <td>24.927334</td>\n",
       "      <td>NaN</td>\n",
       "    </tr>\n",
       "    <tr>\n",
       "      <th>2017-09-21</th>\n",
       "      <td>25.122000</td>\n",
       "      <td>24.300667</td>\n",
       "      <td>24.993334</td>\n",
       "      <td>24.431999</td>\n",
       "      <td>69272850.0</td>\n",
       "      <td>24.431999</td>\n",
       "      <td>NaN</td>\n",
       "    </tr>\n",
       "    <tr>\n",
       "      <th>2017-09-22</th>\n",
       "      <td>24.659992</td>\n",
       "      <td>23.392000</td>\n",
       "      <td>24.432667</td>\n",
       "      <td>23.406000</td>\n",
       "      <td>122391270.0</td>\n",
       "      <td>23.406000</td>\n",
       "      <td>NaN</td>\n",
       "    </tr>\n",
       "    <tr>\n",
       "      <th>2017-09-25</th>\n",
       "      <td>23.831266</td>\n",
       "      <td>22.858665</td>\n",
       "      <td>23.543333</td>\n",
       "      <td>22.999332</td>\n",
       "      <td>114089190.0</td>\n",
       "      <td>22.999332</td>\n",
       "      <td>NaN</td>\n",
       "    </tr>\n",
       "    <tr>\n",
       "      <th>2017-09-26</th>\n",
       "      <td>23.416000</td>\n",
       "      <td>22.726665</td>\n",
       "      <td>23.395332</td>\n",
       "      <td>23.016666</td>\n",
       "      <td>107344110.0</td>\n",
       "      <td>23.016666</td>\n",
       "      <td>NaN</td>\n",
       "    </tr>\n",
       "    <tr>\n",
       "      <th>2017-09-27</th>\n",
       "      <td>23.432600</td>\n",
       "      <td>22.700001</td>\n",
       "      <td>23.326666</td>\n",
       "      <td>22.731333</td>\n",
       "      <td>90904950.0</td>\n",
       "      <td>22.731333</td>\n",
       "      <td>NaN</td>\n",
       "    </tr>\n",
       "    <tr>\n",
       "      <th>2017-09-28</th>\n",
       "      <td>22.850000</td>\n",
       "      <td>22.360001</td>\n",
       "      <td>22.658667</td>\n",
       "      <td>22.639999</td>\n",
       "      <td>79794255.0</td>\n",
       "      <td>22.639999</td>\n",
       "      <td>NaN</td>\n",
       "    </tr>\n",
       "    <tr>\n",
       "      <th>2017-09-29</th>\n",
       "      <td>22.978666</td>\n",
       "      <td>22.573400</td>\n",
       "      <td>22.790667</td>\n",
       "      <td>22.740000</td>\n",
       "      <td>76606230.0</td>\n",
       "      <td>22.740000</td>\n",
       "      <td>NaN</td>\n",
       "    </tr>\n",
       "    <tr>\n",
       "      <th>2017-10-02</th>\n",
       "      <td>22.913334</td>\n",
       "      <td>22.367332</td>\n",
       "      <td>22.834665</td>\n",
       "      <td>22.768665</td>\n",
       "      <td>79301610.0</td>\n",
       "      <td>22.768665</td>\n",
       "      <td>NaN</td>\n",
       "    </tr>\n",
       "    <tr>\n",
       "      <th>2017-10-03</th>\n",
       "      <td>23.236666</td>\n",
       "      <td>22.085333</td>\n",
       "      <td>22.393333</td>\n",
       "      <td>23.209333</td>\n",
       "      <td>152303940.0</td>\n",
       "      <td>23.209333</td>\n",
       "      <td>NaN</td>\n",
       "    </tr>\n",
       "    <tr>\n",
       "      <th>2017-10-04</th>\n",
       "      <td>23.908001</td>\n",
       "      <td>23.306665</td>\n",
       "      <td>23.416666</td>\n",
       "      <td>23.667334</td>\n",
       "      <td>122453145.0</td>\n",
       "      <td>23.667334</td>\n",
       "      <td>NaN</td>\n",
       "    </tr>\n",
       "    <tr>\n",
       "      <th>2017-10-05</th>\n",
       "      <td>23.829000</td>\n",
       "      <td>23.423332</td>\n",
       "      <td>23.733334</td>\n",
       "      <td>23.688665</td>\n",
       "      <td>62575125.0</td>\n",
       "      <td>23.688665</td>\n",
       "      <td>NaN</td>\n",
       "    </tr>\n",
       "    <tr>\n",
       "      <th>2017-10-06</th>\n",
       "      <td>24.006613</td>\n",
       "      <td>23.483334</td>\n",
       "      <td>23.540001</td>\n",
       "      <td>23.792000</td>\n",
       "      <td>64462110.0</td>\n",
       "      <td>23.792000</td>\n",
       "      <td>NaN</td>\n",
       "    </tr>\n",
       "    <tr>\n",
       "      <th>2017-10-09</th>\n",
       "      <td>23.450001</td>\n",
       "      <td>22.844666</td>\n",
       "      <td>23.309999</td>\n",
       "      <td>22.862665</td>\n",
       "      <td>112404810.0</td>\n",
       "      <td>22.862665</td>\n",
       "      <td>23.692555</td>\n",
       "    </tr>\n",
       "    <tr>\n",
       "      <th>2017-10-10</th>\n",
       "      <td>23.708666</td>\n",
       "      <td>23.035366</td>\n",
       "      <td>23.120001</td>\n",
       "      <td>23.705999</td>\n",
       "      <td>104677425.0</td>\n",
       "      <td>23.705999</td>\n",
       "      <td>23.691489</td>\n",
       "    </tr>\n",
       "  </tbody>\n",
       "</table>\n",
       "</div>"
      ],
      "text/plain": [
       "                 High        Low       Open      Close       Volume  \\\n",
       "Date                                                                  \n",
       "2017-08-28  23.156666  22.648001  23.152000  23.044001   56459340.0   \n",
       "2017-08-29  23.270000  22.583332  22.632000  23.157333   61105125.0   \n",
       "2017-08-30  23.564667  23.133333  23.311333  23.545334   51194145.0   \n",
       "2017-08-31  23.896000  23.521334  23.570000  23.726665   61091925.0   \n",
       "2017-09-01  23.839333  23.579346  23.741333  23.693333   45743190.0   \n",
       "2017-09-05  23.699333  23.059334  23.586666  23.306000   57725730.0   \n",
       "2017-09-06  23.398600  22.770666  23.299999  22.968666   61370265.0   \n",
       "2017-09-07  23.498667  22.896666  23.065332  23.374001   63588195.0   \n",
       "2017-09-08  23.318666  22.820000  23.266001  22.893333   48952620.0   \n",
       "2017-09-11  24.247334  23.333332  23.423332  24.246000  115005825.0   \n",
       "2017-09-12  24.584000  24.026667  24.299334  24.183332   89593605.0   \n",
       "2017-09-13  24.538000  23.972666  24.254665  24.415333   62778465.0   \n",
       "2017-09-14  25.197332  24.175333  24.288666  25.176001  108037860.0   \n",
       "2017-09-15  25.333332  24.846666  24.967333  25.320665   81307440.0   \n",
       "2017-09-18  25.974001  25.178665  25.350000  25.666666  107819700.0   \n",
       "2017-09-19  25.492666  24.904667  25.333332  25.006666   96778290.0   \n",
       "2017-09-20  25.216600  24.738001  24.866667  24.927334   73785780.0   \n",
       "2017-09-21  25.122000  24.300667  24.993334  24.431999   69272850.0   \n",
       "2017-09-22  24.659992  23.392000  24.432667  23.406000  122391270.0   \n",
       "2017-09-25  23.831266  22.858665  23.543333  22.999332  114089190.0   \n",
       "2017-09-26  23.416000  22.726665  23.395332  23.016666  107344110.0   \n",
       "2017-09-27  23.432600  22.700001  23.326666  22.731333   90904950.0   \n",
       "2017-09-28  22.850000  22.360001  22.658667  22.639999   79794255.0   \n",
       "2017-09-29  22.978666  22.573400  22.790667  22.740000   76606230.0   \n",
       "2017-10-02  22.913334  22.367332  22.834665  22.768665   79301610.0   \n",
       "2017-10-03  23.236666  22.085333  22.393333  23.209333  152303940.0   \n",
       "2017-10-04  23.908001  23.306665  23.416666  23.667334  122453145.0   \n",
       "2017-10-05  23.829000  23.423332  23.733334  23.688665   62575125.0   \n",
       "2017-10-06  24.006613  23.483334  23.540001  23.792000   64462110.0   \n",
       "2017-10-09  23.450001  22.844666  23.309999  22.862665  112404810.0   \n",
       "2017-10-10  23.708666  23.035366  23.120001  23.705999  104677425.0   \n",
       "\n",
       "            Adj Close  Open:30 days rolling  \n",
       "Date                                         \n",
       "2017-08-28  23.044001                   NaN  \n",
       "2017-08-29  23.157333                   NaN  \n",
       "2017-08-30  23.545334                   NaN  \n",
       "2017-08-31  23.726665                   NaN  \n",
       "2017-09-01  23.693333                   NaN  \n",
       "2017-09-05  23.306000                   NaN  \n",
       "2017-09-06  22.968666                   NaN  \n",
       "2017-09-07  23.374001                   NaN  \n",
       "2017-09-08  22.893333                   NaN  \n",
       "2017-09-11  24.246000                   NaN  \n",
       "2017-09-12  24.183332                   NaN  \n",
       "2017-09-13  24.415333                   NaN  \n",
       "2017-09-14  25.176001                   NaN  \n",
       "2017-09-15  25.320665                   NaN  \n",
       "2017-09-18  25.666666                   NaN  \n",
       "2017-09-19  25.006666                   NaN  \n",
       "2017-09-20  24.927334                   NaN  \n",
       "2017-09-21  24.431999                   NaN  \n",
       "2017-09-22  23.406000                   NaN  \n",
       "2017-09-25  22.999332                   NaN  \n",
       "2017-09-26  23.016666                   NaN  \n",
       "2017-09-27  22.731333                   NaN  \n",
       "2017-09-28  22.639999                   NaN  \n",
       "2017-09-29  22.740000                   NaN  \n",
       "2017-10-02  22.768665                   NaN  \n",
       "2017-10-03  23.209333                   NaN  \n",
       "2017-10-04  23.667334                   NaN  \n",
       "2017-10-05  23.688665                   NaN  \n",
       "2017-10-06  23.792000                   NaN  \n",
       "2017-10-09  22.862665             23.692555  \n",
       "2017-10-10  23.705999             23.691489  "
      ]
     },
     "execution_count": 120,
     "metadata": {},
     "output_type": "execute_result"
    }
   ],
   "source": [
    "df_tesla.head(31)"
   ]
  },
  {
   "cell_type": "code",
   "execution_count": 123,
   "id": "8ff70a52",
   "metadata": {},
   "outputs": [
    {
     "data": {
      "text/plain": [
       "<AxesSubplot:xlabel='Date'>"
      ]
     },
     "execution_count": 123,
     "metadata": {},
     "output_type": "execute_result"
    },
    {
     "data": {
      "image/png": "[encoded data removed]",
      "text/plain": [
       "<Figure size 864x360 with 1 Axes>"
      ]
     },
     "metadata": {
      "needs_background": "light"
     },
     "output_type": "display_data"
    }
   ],
   "source": [
    "df_tesla[['Open','Open:30 days rolling']].plot(figsize=(12,5))"
   ]
  },
  {
   "cell_type": "markdown",
   "id": "ee482b54",
   "metadata": {},
   "source": [
    "### Assignment\n",
    "#### news - \n",
    "1. Read Microsoft Data using pandas data reader\n",
    "2. Get the maximum price of the share from 2017 to 2022\n",
    "3. Which is the date of the highest price of the stock?\n",
    "4. Which is the date of the lowest price of the stock?"
   ]
  },
  {
   "cell_type": "code",
   "execution_count": 125,
   "id": "eaa40eec",
   "metadata": {},
   "outputs": [],
   "source": [
    "#Read Microsoft Data using pandas data reader\n",
    "df_msft = pdr.get_data_yahoo('MSFT')"
   ]
  },
  {
   "cell_type": "code",
   "execution_count": 131,
   "id": "831ae545",
   "metadata": {},
   "outputs": [
    {
     "data": {
      "text/html": [
       "<div>\n",
       "<style scoped>\n",
       "    .dataframe tbody tr th:only-of-type {\n",
       "        vertical-align: middle;\n",
       "    }\n",
       "\n",
       "    .dataframe tbody tr th {\n",
       "        vertical-align: top;\n",
       "    }\n",
       "\n",
       "    .dataframe thead th {\n",
       "        text-align: right;\n",
       "    }\n",
       "</style>\n",
       "<table border=\"1\" class=\"dataframe\">\n",
       "  <thead>\n",
       "    <tr style=\"text-align: right;\">\n",
       "      <th></th>\n",
       "      <th>High</th>\n",
       "      <th>Low</th>\n",
       "      <th>Open</th>\n",
       "      <th>Close</th>\n",
       "      <th>Volume</th>\n",
       "      <th>Adj Close</th>\n",
       "    </tr>\n",
       "    <tr>\n",
       "      <th>Date</th>\n",
       "      <th></th>\n",
       "      <th></th>\n",
       "      <th></th>\n",
       "      <th></th>\n",
       "      <th></th>\n",
       "      <th></th>\n",
       "    </tr>\n",
       "  </thead>\n",
       "  <tbody>\n",
       "    <tr>\n",
       "      <th>2017-08-28</th>\n",
       "      <td>73.089996</td>\n",
       "      <td>72.550003</td>\n",
       "      <td>73.059998</td>\n",
       "      <td>72.830002</td>\n",
       "      <td>14569700.0</td>\n",
       "      <td>68.434685</td>\n",
       "    </tr>\n",
       "    <tr>\n",
       "      <th>2017-08-29</th>\n",
       "      <td>73.160004</td>\n",
       "      <td>72.050003</td>\n",
       "      <td>72.250000</td>\n",
       "      <td>73.050003</td>\n",
       "      <td>11478400.0</td>\n",
       "      <td>68.641411</td>\n",
       "    </tr>\n",
       "    <tr>\n",
       "      <th>2017-08-30</th>\n",
       "      <td>74.209999</td>\n",
       "      <td>72.830002</td>\n",
       "      <td>73.010002</td>\n",
       "      <td>74.010002</td>\n",
       "      <td>16897800.0</td>\n",
       "      <td>69.543480</td>\n",
       "    </tr>\n",
       "    <tr>\n",
       "      <th>2017-08-31</th>\n",
       "      <td>74.959999</td>\n",
       "      <td>73.800003</td>\n",
       "      <td>74.029999</td>\n",
       "      <td>74.769997</td>\n",
       "      <td>27652800.0</td>\n",
       "      <td>70.257599</td>\n",
       "    </tr>\n",
       "    <tr>\n",
       "      <th>2017-09-01</th>\n",
       "      <td>74.739998</td>\n",
       "      <td>73.639999</td>\n",
       "      <td>74.709999</td>\n",
       "      <td>73.940002</td>\n",
       "      <td>21736200.0</td>\n",
       "      <td>69.477707</td>\n",
       "    </tr>\n",
       "  </tbody>\n",
       "</table>\n",
       "</div>"
      ],
      "text/plain": [
       "                 High        Low       Open      Close      Volume  Adj Close\n",
       "Date                                                                         \n",
       "2017-08-28  73.089996  72.550003  73.059998  72.830002  14569700.0  68.434685\n",
       "2017-08-29  73.160004  72.050003  72.250000  73.050003  11478400.0  68.641411\n",
       "2017-08-30  74.209999  72.830002  73.010002  74.010002  16897800.0  69.543480\n",
       "2017-08-31  74.959999  73.800003  74.029999  74.769997  27652800.0  70.257599\n",
       "2017-09-01  74.739998  73.639999  74.709999  73.940002  21736200.0  69.477707"
      ]
     },
     "execution_count": 131,
     "metadata": {},
     "output_type": "execute_result"
    }
   ],
   "source": [
    "df_msft.head()"
   ]
  },
  {
   "cell_type": "code",
   "execution_count": 151,
   "id": "d5f93cfd",
   "metadata": {},
   "outputs": [
    {
     "data": {
      "text/plain": [
       "349.6700134277344"
      ]
     },
     "execution_count": 151,
     "metadata": {},
     "output_type": "execute_result"
    }
   ],
   "source": [
    "#Get the maximum price of the share from 2017 to 2022\n",
    "df_msft.loc['2017-01-01':'2022-12-31']['High'].max()"
   ]
  },
  {
   "cell_type": "code",
   "execution_count": 142,
   "id": "d4459068",
   "metadata": {},
   "outputs": [
    {
     "data": {
      "text/html": [
       "<div>\n",
       "<style scoped>\n",
       "    .dataframe tbody tr th:only-of-type {\n",
       "        vertical-align: middle;\n",
       "    }\n",
       "\n",
       "    .dataframe tbody tr th {\n",
       "        vertical-align: top;\n",
       "    }\n",
       "\n",
       "    .dataframe thead th {\n",
       "        text-align: right;\n",
       "    }\n",
       "</style>\n",
       "<table border=\"1\" class=\"dataframe\">\n",
       "  <thead>\n",
       "    <tr style=\"text-align: right;\">\n",
       "      <th></th>\n",
       "      <th>High</th>\n",
       "      <th>Low</th>\n",
       "      <th>Open</th>\n",
       "      <th>Close</th>\n",
       "      <th>Volume</th>\n",
       "      <th>Adj Close</th>\n",
       "    </tr>\n",
       "    <tr>\n",
       "      <th>Date</th>\n",
       "      <th></th>\n",
       "      <th></th>\n",
       "      <th></th>\n",
       "      <th></th>\n",
       "      <th></th>\n",
       "      <th></th>\n",
       "    </tr>\n",
       "  </thead>\n",
       "  <tbody>\n",
       "    <tr>\n",
       "      <th>2021-11-22</th>\n",
       "      <td>349.670013</td>\n",
       "      <td>339.549988</td>\n",
       "      <td>344.619995</td>\n",
       "      <td>339.829987</td>\n",
       "      <td>31031100.0</td>\n",
       "      <td>337.624084</td>\n",
       "    </tr>\n",
       "  </tbody>\n",
       "</table>\n",
       "</div>"
      ],
      "text/plain": [
       "                  High         Low        Open       Close      Volume  \\\n",
       "Date                                                                     \n",
       "2021-11-22  349.670013  339.549988  344.619995  339.829987  31031100.0   \n",
       "\n",
       "             Adj Close  \n",
       "Date                    \n",
       "2021-11-22  337.624084  "
      ]
     },
     "execution_count": 142,
     "metadata": {},
     "output_type": "execute_result"
    }
   ],
   "source": [
    "#Which is the date of the highest price of the stock?\n",
    "df_msft[df_msft['High']==df_msft['High'].max()]"
   ]
  },
  {
   "cell_type": "code",
   "execution_count": 145,
   "id": "832a3c89",
   "metadata": {},
   "outputs": [
    {
     "data": {
      "text/html": [
       "<div>\n",
       "<style scoped>\n",
       "    .dataframe tbody tr th:only-of-type {\n",
       "        vertical-align: middle;\n",
       "    }\n",
       "\n",
       "    .dataframe tbody tr th {\n",
       "        vertical-align: top;\n",
       "    }\n",
       "\n",
       "    .dataframe thead th {\n",
       "        text-align: right;\n",
       "    }\n",
       "</style>\n",
       "<table border=\"1\" class=\"dataframe\">\n",
       "  <thead>\n",
       "    <tr style=\"text-align: right;\">\n",
       "      <th></th>\n",
       "      <th>High</th>\n",
       "      <th>Low</th>\n",
       "      <th>Open</th>\n",
       "      <th>Close</th>\n",
       "      <th>Volume</th>\n",
       "      <th>Adj Close</th>\n",
       "    </tr>\n",
       "    <tr>\n",
       "      <th>Date</th>\n",
       "      <th></th>\n",
       "      <th></th>\n",
       "      <th></th>\n",
       "      <th></th>\n",
       "      <th></th>\n",
       "      <th></th>\n",
       "    </tr>\n",
       "  </thead>\n",
       "  <tbody>\n",
       "    <tr>\n",
       "      <th>2017-08-29</th>\n",
       "      <td>73.160004</td>\n",
       "      <td>72.050003</td>\n",
       "      <td>72.25</td>\n",
       "      <td>73.050003</td>\n",
       "      <td>11478400.0</td>\n",
       "      <td>68.641411</td>\n",
       "    </tr>\n",
       "  </tbody>\n",
       "</table>\n",
       "</div>"
      ],
      "text/plain": [
       "                 High        Low   Open      Close      Volume  Adj Close\n",
       "Date                                                                     \n",
       "2017-08-29  73.160004  72.050003  72.25  73.050003  11478400.0  68.641411"
      ]
     },
     "execution_count": 145,
     "metadata": {},
     "output_type": "execute_result"
    }
   ],
   "source": [
    "#Which is the date of the lowest price of the stock?\n",
    "df_msft[df_msft['Low']==df_msft['Low'].min()]"
   ]
  },
  {
   "cell_type": "code",
   "execution_count": null,
   "id": "eca165e8",
   "metadata": {},
   "outputs": [],
   "source": []
  }
 ],
 "metadata": {
  "kernelspec": {
   "display_name": "Python 3 (ipykernel)",
   "language": "python",
   "name": "python3"
  },
  "language_info": {
   "codemirror_mode": {
    "name": "ipython",
    "version": 3
   },
   "file_extension": ".py",
   "mimetype": "text/x-python",
   "name": "python",
   "nbconvert_exporter": "python",
   "pygments_lexer": "ipython3",
   "version": "3.9.7"
  }
 },
 "nbformat": 4,
 "nbformat_minor": 5
}
